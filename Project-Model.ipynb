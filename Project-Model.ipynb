{
 "cells": [
  {
   "cell_type": "markdown",
   "metadata": {},
   "source": [
    "# Preprocessing "
   ]
  },
  {
   "cell_type": "code",
   "execution_count": 1,
   "metadata": {},
   "outputs": [],
   "source": [
    "import pandas as pd\n",
    "import numpy as np"
   ]
  },
  {
   "cell_type": "code",
   "execution_count": 4,
   "metadata": {},
   "outputs": [
    {
     "data": {
      "text/html": [
       "<div>\n",
       "<style scoped>\n",
       "    .dataframe tbody tr th:only-of-type {\n",
       "        vertical-align: middle;\n",
       "    }\n",
       "\n",
       "    .dataframe tbody tr th {\n",
       "        vertical-align: top;\n",
       "    }\n",
       "\n",
       "    .dataframe thead th {\n",
       "        text-align: right;\n",
       "    }\n",
       "</style>\n",
       "<table border=\"1\" class=\"dataframe\">\n",
       "  <thead>\n",
       "    <tr style=\"text-align: right;\">\n",
       "      <th></th>\n",
       "      <th>Name of movie</th>\n",
       "      <th>Year of release</th>\n",
       "      <th>Watchtime</th>\n",
       "      <th>Genre</th>\n",
       "      <th>Classification</th>\n",
       "      <th>Movie Rating</th>\n",
       "      <th>Metascore</th>\n",
       "      <th>Votes</th>\n",
       "      <th>Gross collection</th>\n",
       "      <th>Des</th>\n",
       "    </tr>\n",
       "  </thead>\n",
       "  <tbody>\n",
       "    <tr>\n",
       "      <th>0</th>\n",
       "      <td>Avatar</td>\n",
       "      <td>2009</td>\n",
       "      <td>162</td>\n",
       "      <td>Action, Adventure, Fantasy</td>\n",
       "      <td>PG-13</td>\n",
       "      <td>7.9</td>\n",
       "      <td>83.0</td>\n",
       "      <td>1,382,237</td>\n",
       "      <td>2,923,706,026</td>\n",
       "      <td>A paraplegic Marine dispatched to the moon Pan...</td>\n",
       "    </tr>\n",
       "    <tr>\n",
       "      <th>1</th>\n",
       "      <td>Avengers: Endgame</td>\n",
       "      <td>2019</td>\n",
       "      <td>181</td>\n",
       "      <td>Action, Adventure, Drama</td>\n",
       "      <td>PG-13</td>\n",
       "      <td>8.4</td>\n",
       "      <td>78.0</td>\n",
       "      <td>1,258,255</td>\n",
       "      <td>2,799,439,100</td>\n",
       "      <td>After the devastating events of Avengers: Infi...</td>\n",
       "    </tr>\n",
       "    <tr>\n",
       "      <th>2</th>\n",
       "      <td>Avatar: The Way of Water</td>\n",
       "      <td>2022</td>\n",
       "      <td>192</td>\n",
       "      <td>Action, Adventure, Fantasy</td>\n",
       "      <td>PG-13</td>\n",
       "      <td>7.6</td>\n",
       "      <td>67.0</td>\n",
       "      <td>489,673</td>\n",
       "      <td>2,320,250,281</td>\n",
       "      <td>Jake Sully lives with his newfound family form...</td>\n",
       "    </tr>\n",
       "    <tr>\n",
       "      <th>3</th>\n",
       "      <td>Titanic</td>\n",
       "      <td>1997</td>\n",
       "      <td>194</td>\n",
       "      <td>Drama, Romance</td>\n",
       "      <td>PG-13</td>\n",
       "      <td>7.9</td>\n",
       "      <td>75.0</td>\n",
       "      <td>1,275,021</td>\n",
       "      <td>2,264,743,305</td>\n",
       "      <td>A seventeen-year-old aristocrat falls in love ...</td>\n",
       "    </tr>\n",
       "    <tr>\n",
       "      <th>4</th>\n",
       "      <td>Star Wars: Episode VII - The Force Awakens</td>\n",
       "      <td>2015</td>\n",
       "      <td>138</td>\n",
       "      <td>Action, Adventure, Sci-Fi</td>\n",
       "      <td>PG-13</td>\n",
       "      <td>7.8</td>\n",
       "      <td>80.0</td>\n",
       "      <td>971,285</td>\n",
       "      <td>2,071,310,218</td>\n",
       "      <td>As a new threat to the galaxy rises, Rey, a de...</td>\n",
       "    </tr>\n",
       "    <tr>\n",
       "      <th>5</th>\n",
       "      <td>Avengers: Infinity War</td>\n",
       "      <td>2018</td>\n",
       "      <td>149</td>\n",
       "      <td>Action, Adventure, Sci-Fi</td>\n",
       "      <td>PG-13</td>\n",
       "      <td>8.4</td>\n",
       "      <td>68.0</td>\n",
       "      <td>1,195,837</td>\n",
       "      <td>2,052,415,039</td>\n",
       "      <td>The Avengers and their allies must be willing ...</td>\n",
       "    </tr>\n",
       "    <tr>\n",
       "      <th>6</th>\n",
       "      <td>Spider-Man: No Way Home</td>\n",
       "      <td>2021</td>\n",
       "      <td>148</td>\n",
       "      <td>Action, Adventure, Fantasy</td>\n",
       "      <td>PG-13</td>\n",
       "      <td>8.2</td>\n",
       "      <td>71.0</td>\n",
       "      <td>872,091</td>\n",
       "      <td>1,921,847,111</td>\n",
       "      <td>With Spider-Man's identity now revealed, Peter...</td>\n",
       "    </tr>\n",
       "    <tr>\n",
       "      <th>7</th>\n",
       "      <td>Jurassic World</td>\n",
       "      <td>2015</td>\n",
       "      <td>124</td>\n",
       "      <td>Action, Adventure, Sci-Fi</td>\n",
       "      <td>PG-13</td>\n",
       "      <td>6.9</td>\n",
       "      <td>59.0</td>\n",
       "      <td>677,317</td>\n",
       "      <td>1,671,537,444</td>\n",
       "      <td>A new theme park, built on the original site o...</td>\n",
       "    </tr>\n",
       "    <tr>\n",
       "      <th>8</th>\n",
       "      <td>The Lion King</td>\n",
       "      <td>2019</td>\n",
       "      <td>118</td>\n",
       "      <td>Animation, Adventure, Drama</td>\n",
       "      <td>PG</td>\n",
       "      <td>6.8</td>\n",
       "      <td>55.0</td>\n",
       "      <td>266,002</td>\n",
       "      <td>1,663,075,401</td>\n",
       "      <td>After the murder of his father, a young lion p...</td>\n",
       "    </tr>\n",
       "    <tr>\n",
       "      <th>9</th>\n",
       "      <td>The Avengers</td>\n",
       "      <td>2012</td>\n",
       "      <td>143</td>\n",
       "      <td>Action, Sci-Fi</td>\n",
       "      <td>PG-13</td>\n",
       "      <td>8.0</td>\n",
       "      <td>69.0</td>\n",
       "      <td>1,455,536</td>\n",
       "      <td>1,520,538,536</td>\n",
       "      <td>Earth's mightiest heroes must come together an...</td>\n",
       "    </tr>\n",
       "  </tbody>\n",
       "</table>\n",
       "</div>"
      ],
      "text/plain": [
       "                                Name of movie  Year of release  Watchtime  \\\n",
       "0                                      Avatar             2009        162   \n",
       "1                           Avengers: Endgame             2019        181   \n",
       "2                    Avatar: The Way of Water             2022        192   \n",
       "3                                     Titanic             1997        194   \n",
       "4  Star Wars: Episode VII - The Force Awakens             2015        138   \n",
       "5                      Avengers: Infinity War             2018        149   \n",
       "6                     Spider-Man: No Way Home             2021        148   \n",
       "7                              Jurassic World             2015        124   \n",
       "8                               The Lion King             2019        118   \n",
       "9                                The Avengers             2012        143   \n",
       "\n",
       "                         Genre Classification  Movie Rating  Metascore  \\\n",
       "0   Action, Adventure, Fantasy          PG-13           7.9       83.0   \n",
       "1     Action, Adventure, Drama          PG-13           8.4       78.0   \n",
       "2   Action, Adventure, Fantasy          PG-13           7.6       67.0   \n",
       "3               Drama, Romance          PG-13           7.9       75.0   \n",
       "4    Action, Adventure, Sci-Fi          PG-13           7.8       80.0   \n",
       "5    Action, Adventure, Sci-Fi          PG-13           8.4       68.0   \n",
       "6   Action, Adventure, Fantasy          PG-13           8.2       71.0   \n",
       "7    Action, Adventure, Sci-Fi          PG-13           6.9       59.0   \n",
       "8  Animation, Adventure, Drama             PG           6.8       55.0   \n",
       "9               Action, Sci-Fi          PG-13           8.0       69.0   \n",
       "\n",
       "       Votes Gross collection  \\\n",
       "0  1,382,237    2,923,706,026   \n",
       "1  1,258,255    2,799,439,100   \n",
       "2    489,673    2,320,250,281   \n",
       "3  1,275,021    2,264,743,305   \n",
       "4    971,285    2,071,310,218   \n",
       "5  1,195,837    2,052,415,039   \n",
       "6    872,091    1,921,847,111   \n",
       "7    677,317    1,671,537,444   \n",
       "8    266,002    1,663,075,401   \n",
       "9  1,455,536    1,520,538,536   \n",
       "\n",
       "                                                 Des  \n",
       "0  A paraplegic Marine dispatched to the moon Pan...  \n",
       "1  After the devastating events of Avengers: Infi...  \n",
       "2  Jake Sully lives with his newfound family form...  \n",
       "3  A seventeen-year-old aristocrat falls in love ...  \n",
       "4  As a new threat to the galaxy rises, Rey, a de...  \n",
       "5  The Avengers and their allies must be willing ...  \n",
       "6  With Spider-Man's identity now revealed, Peter...  \n",
       "7  A new theme park, built on the original site o...  \n",
       "8  After the murder of his father, a young lion p...  \n",
       "9  Earth's mightiest heroes must come together an...  "
      ]
     },
     "execution_count": 4,
     "metadata": {},
     "output_type": "execute_result"
    }
   ],
   "source": [
    "movie=pd.read_csv('E:\\\\TH\\\\DS108-Tien xu ly\\\\Project\\\\movie_data.csv')\n",
    "movie.head(10)"
   ]
  },
  {
   "cell_type": "code",
   "execution_count": 4,
   "metadata": {},
   "outputs": [
    {
     "name": "stdout",
     "output_type": "stream",
     "text": [
      "<class 'pandas.core.frame.DataFrame'>\n",
      "RangeIndex: 1000 entries, 0 to 999\n",
      "Data columns (total 10 columns):\n",
      " #   Column            Non-Null Count  Dtype  \n",
      "---  ------            --------------  -----  \n",
      " 0   Name of movie     1000 non-null   object \n",
      " 1   Year of release   1000 non-null   int64  \n",
      " 2   Watchtime         1000 non-null   int64  \n",
      " 3   Genre             1000 non-null   object \n",
      " 4   Classification    978 non-null    object \n",
      " 5   Movie Rating      1000 non-null   float64\n",
      " 6   Metascore         1000 non-null   int64  \n",
      " 7   Votes             1000 non-null   int64  \n",
      " 8   Gross collection  1000 non-null   int64  \n",
      " 9   Des               1000 non-null   object \n",
      "dtypes: float64(1), int64(5), object(4)\n",
      "memory usage: 78.3+ KB\n"
     ]
    }
   ],
   "source": [
    "movie.info()"
   ]
  },
  {
   "cell_type": "code",
   "execution_count": 5,
   "metadata": {},
   "outputs": [],
   "source": [
    "movie['Metascore'] = movie['Metascore'].fillna(0).astype('int64')\n",
    "movie['Votes'] =movie['Votes'].str.replace(',', '').astype('int64')\n",
    "movie['Gross collection']=movie['Gross collection'].str.replace(',','').astype('int64')"
   ]
  },
  {
   "cell_type": "code",
   "execution_count": 6,
   "metadata": {},
   "outputs": [
    {
     "data": {
      "text/html": [
       "<div>\n",
       "<style scoped>\n",
       "    .dataframe tbody tr th:only-of-type {\n",
       "        vertical-align: middle;\n",
       "    }\n",
       "\n",
       "    .dataframe tbody tr th {\n",
       "        vertical-align: top;\n",
       "    }\n",
       "\n",
       "    .dataframe thead th {\n",
       "        text-align: right;\n",
       "    }\n",
       "</style>\n",
       "<table border=\"1\" class=\"dataframe\">\n",
       "  <thead>\n",
       "    <tr style=\"text-align: right;\">\n",
       "      <th></th>\n",
       "      <th>Name of movie</th>\n",
       "      <th>Year of release</th>\n",
       "      <th>Watchtime</th>\n",
       "      <th>Genre</th>\n",
       "      <th>Classification</th>\n",
       "      <th>Movie Rating</th>\n",
       "      <th>Metascore</th>\n",
       "      <th>Votes</th>\n",
       "      <th>Gross collection</th>\n",
       "      <th>Des</th>\n",
       "    </tr>\n",
       "  </thead>\n",
       "  <tbody>\n",
       "    <tr>\n",
       "      <th>0</th>\n",
       "      <td>Avatar</td>\n",
       "      <td>2009</td>\n",
       "      <td>162</td>\n",
       "      <td>Action, Adventure, Fantasy</td>\n",
       "      <td>PG-13</td>\n",
       "      <td>7.9</td>\n",
       "      <td>83</td>\n",
       "      <td>1382237</td>\n",
       "      <td>2923706026</td>\n",
       "      <td>A paraplegic Marine dispatched to the moon Pan...</td>\n",
       "    </tr>\n",
       "    <tr>\n",
       "      <th>1</th>\n",
       "      <td>Avengers: Endgame</td>\n",
       "      <td>2019</td>\n",
       "      <td>181</td>\n",
       "      <td>Action, Adventure, Drama</td>\n",
       "      <td>PG-13</td>\n",
       "      <td>8.4</td>\n",
       "      <td>78</td>\n",
       "      <td>1258255</td>\n",
       "      <td>2799439100</td>\n",
       "      <td>After the devastating events of Avengers: Infi...</td>\n",
       "    </tr>\n",
       "    <tr>\n",
       "      <th>2</th>\n",
       "      <td>Avatar: The Way of Water</td>\n",
       "      <td>2022</td>\n",
       "      <td>192</td>\n",
       "      <td>Action, Adventure, Fantasy</td>\n",
       "      <td>PG-13</td>\n",
       "      <td>7.6</td>\n",
       "      <td>67</td>\n",
       "      <td>489673</td>\n",
       "      <td>2320250281</td>\n",
       "      <td>Jake Sully lives with his newfound family form...</td>\n",
       "    </tr>\n",
       "    <tr>\n",
       "      <th>3</th>\n",
       "      <td>Titanic</td>\n",
       "      <td>1997</td>\n",
       "      <td>194</td>\n",
       "      <td>Drama, Romance</td>\n",
       "      <td>PG-13</td>\n",
       "      <td>7.9</td>\n",
       "      <td>75</td>\n",
       "      <td>1275021</td>\n",
       "      <td>2264743305</td>\n",
       "      <td>A seventeen-year-old aristocrat falls in love ...</td>\n",
       "    </tr>\n",
       "    <tr>\n",
       "      <th>4</th>\n",
       "      <td>Star Wars: Episode VII - The Force Awakens</td>\n",
       "      <td>2015</td>\n",
       "      <td>138</td>\n",
       "      <td>Action, Adventure, Sci-Fi</td>\n",
       "      <td>PG-13</td>\n",
       "      <td>7.8</td>\n",
       "      <td>80</td>\n",
       "      <td>971285</td>\n",
       "      <td>2071310218</td>\n",
       "      <td>As a new threat to the galaxy rises, Rey, a de...</td>\n",
       "    </tr>\n",
       "    <tr>\n",
       "      <th>...</th>\n",
       "      <td>...</td>\n",
       "      <td>...</td>\n",
       "      <td>...</td>\n",
       "      <td>...</td>\n",
       "      <td>...</td>\n",
       "      <td>...</td>\n",
       "      <td>...</td>\n",
       "      <td>...</td>\n",
       "      <td>...</td>\n",
       "      <td>...</td>\n",
       "    </tr>\n",
       "    <tr>\n",
       "      <th>995</th>\n",
       "      <td>Hot Shots!</td>\n",
       "      <td>1991</td>\n",
       "      <td>85</td>\n",
       "      <td>Action, Comedy</td>\n",
       "      <td>PG-13</td>\n",
       "      <td>6.7</td>\n",
       "      <td>61</td>\n",
       "      <td>116214</td>\n",
       "      <td>181096164</td>\n",
       "      <td>A parody of Top Gun (1986) in which a talented...</td>\n",
       "    </tr>\n",
       "    <tr>\n",
       "      <th>996</th>\n",
       "      <td>Road to Perdition</td>\n",
       "      <td>2002</td>\n",
       "      <td>117</td>\n",
       "      <td>Crime, Drama, Thriller</td>\n",
       "      <td>R</td>\n",
       "      <td>7.7</td>\n",
       "      <td>72</td>\n",
       "      <td>283762</td>\n",
       "      <td>181001478</td>\n",
       "      <td>A mob enforcer's son in 1930s Illinois witness...</td>\n",
       "    </tr>\n",
       "    <tr>\n",
       "      <th>997</th>\n",
       "      <td>Kill Bill: Vol. 1</td>\n",
       "      <td>2003</td>\n",
       "      <td>111</td>\n",
       "      <td>Action, Crime, Thriller</td>\n",
       "      <td>R</td>\n",
       "      <td>8.2</td>\n",
       "      <td>69</td>\n",
       "      <td>1186947</td>\n",
       "      <td>180906076</td>\n",
       "      <td>After awakening from a four-year coma, a forme...</td>\n",
       "    </tr>\n",
       "    <tr>\n",
       "      <th>998</th>\n",
       "      <td>The Scorpion King</td>\n",
       "      <td>2002</td>\n",
       "      <td>92</td>\n",
       "      <td>Action, Adventure, Fantasy</td>\n",
       "      <td>PG-13</td>\n",
       "      <td>5.5</td>\n",
       "      <td>45</td>\n",
       "      <td>145110</td>\n",
       "      <td>180630907</td>\n",
       "      <td>A desert warrior rises up against the evil arm...</td>\n",
       "    </tr>\n",
       "    <tr>\n",
       "      <th>999</th>\n",
       "      <td>Sweet Home Alabama</td>\n",
       "      <td>2002</td>\n",
       "      <td>108</td>\n",
       "      <td>Comedy, Romance</td>\n",
       "      <td>PG-13</td>\n",
       "      <td>6.2</td>\n",
       "      <td>45</td>\n",
       "      <td>123172</td>\n",
       "      <td>180622424</td>\n",
       "      <td>A young woman who has reinvented herself as a ...</td>\n",
       "    </tr>\n",
       "  </tbody>\n",
       "</table>\n",
       "<p>1000 rows × 10 columns</p>\n",
       "</div>"
      ],
      "text/plain": [
       "                                  Name of movie  Year of release  Watchtime  \\\n",
       "0                                        Avatar             2009        162   \n",
       "1                             Avengers: Endgame             2019        181   \n",
       "2                      Avatar: The Way of Water             2022        192   \n",
       "3                                       Titanic             1997        194   \n",
       "4    Star Wars: Episode VII - The Force Awakens             2015        138   \n",
       "..                                          ...              ...        ...   \n",
       "995                                  Hot Shots!             1991         85   \n",
       "996                           Road to Perdition             2002        117   \n",
       "997                           Kill Bill: Vol. 1             2003        111   \n",
       "998                           The Scorpion King             2002         92   \n",
       "999                          Sweet Home Alabama             2002        108   \n",
       "\n",
       "                          Genre Classification  Movie Rating  Metascore  \\\n",
       "0    Action, Adventure, Fantasy          PG-13           7.9         83   \n",
       "1      Action, Adventure, Drama          PG-13           8.4         78   \n",
       "2    Action, Adventure, Fantasy          PG-13           7.6         67   \n",
       "3                Drama, Romance          PG-13           7.9         75   \n",
       "4     Action, Adventure, Sci-Fi          PG-13           7.8         80   \n",
       "..                          ...            ...           ...        ...   \n",
       "995              Action, Comedy          PG-13           6.7         61   \n",
       "996      Crime, Drama, Thriller              R           7.7         72   \n",
       "997     Action, Crime, Thriller              R           8.2         69   \n",
       "998  Action, Adventure, Fantasy          PG-13           5.5         45   \n",
       "999             Comedy, Romance          PG-13           6.2         45   \n",
       "\n",
       "       Votes  Gross collection  \\\n",
       "0    1382237        2923706026   \n",
       "1    1258255        2799439100   \n",
       "2     489673        2320250281   \n",
       "3    1275021        2264743305   \n",
       "4     971285        2071310218   \n",
       "..       ...               ...   \n",
       "995   116214         181096164   \n",
       "996   283762         181001478   \n",
       "997  1186947         180906076   \n",
       "998   145110         180630907   \n",
       "999   123172         180622424   \n",
       "\n",
       "                                                   Des  \n",
       "0    A paraplegic Marine dispatched to the moon Pan...  \n",
       "1    After the devastating events of Avengers: Infi...  \n",
       "2    Jake Sully lives with his newfound family form...  \n",
       "3    A seventeen-year-old aristocrat falls in love ...  \n",
       "4    As a new threat to the galaxy rises, Rey, a de...  \n",
       "..                                                 ...  \n",
       "995  A parody of Top Gun (1986) in which a talented...  \n",
       "996  A mob enforcer's son in 1930s Illinois witness...  \n",
       "997  After awakening from a four-year coma, a forme...  \n",
       "998  A desert warrior rises up against the evil arm...  \n",
       "999  A young woman who has reinvented herself as a ...  \n",
       "\n",
       "[1000 rows x 10 columns]"
      ]
     },
     "execution_count": 6,
     "metadata": {},
     "output_type": "execute_result"
    }
   ],
   "source": [
    "movie"
   ]
  },
  {
   "cell_type": "code",
   "execution_count": 7,
   "metadata": {},
   "outputs": [
    {
     "name": "stderr",
     "output_type": "stream",
     "text": [
      "[nltk_data] Downloading package stopwords to\n",
      "[nltk_data]     C:\\Users\\ADMIN\\AppData\\Roaming\\nltk_data...\n",
      "[nltk_data]   Package stopwords is already up-to-date!\n"
     ]
    },
    {
     "data": {
      "text/plain": [
       "True"
      ]
     },
     "execution_count": 7,
     "metadata": {},
     "output_type": "execute_result"
    }
   ],
   "source": [
    "import pandas as pd\n",
    "import matplotlib.pyplot as plt\n",
    "import seaborn as sns\n",
    "#import plotly.express as px\n",
    "from matplotlib import style\n",
    "style.use('ggplot')\n",
    "import re\n",
    "from nltk.tokenize import word_tokenize\n",
    "from nltk.stem import PorterStemmer\n",
    "from nltk.corpus import stopwords\n",
    "stop_words = set(stopwords.words('english'))\n",
    "#from wordcloud import WordCloud\n",
    "from sklearn.feature_extraction.text import TfidfVectorizer\n",
    "from sklearn.feature_extraction.text import CountVectorizer\n",
    "from sklearn.metrics.pairwise import cosine_similarity\n",
    "import ast\n",
    "from sklearn.model_selection import train_test_split\n",
    "import nltk\n",
    "nltk.download(\"stopwords\")"
   ]
  },
  {
   "cell_type": "code",
   "execution_count": 10,
   "metadata": {},
   "outputs": [
    {
     "name": "stderr",
     "output_type": "stream",
     "text": [
      "C:\\Users\\ADMIN\\AppData\\Local\\Temp\\ipykernel_3244\\2362330249.py:3: DtypeWarning: Columns (11) have mixed types. Specify dtype option on import or set low_memory=False.\n",
      "  data = pd.read_csv('E:\\\\TH\\\\DS108-Tien xu ly\\\\Project\\\\keywords.csv')\n"
     ]
    },
    {
     "data": {
      "text/html": [
       "<div>\n",
       "<style scoped>\n",
       "    .dataframe tbody tr th:only-of-type {\n",
       "        vertical-align: middle;\n",
       "    }\n",
       "\n",
       "    .dataframe tbody tr th {\n",
       "        vertical-align: top;\n",
       "    }\n",
       "\n",
       "    .dataframe thead th {\n",
       "        text-align: right;\n",
       "    }\n",
       "</style>\n",
       "<table border=\"1\" class=\"dataframe\">\n",
       "  <thead>\n",
       "    <tr style=\"text-align: right;\">\n",
       "      <th></th>\n",
       "      <th>Name of movie</th>\n",
       "      <th>Year of release</th>\n",
       "      <th>Watchtime</th>\n",
       "      <th>Genre</th>\n",
       "      <th>Classification</th>\n",
       "      <th>Movie Rating</th>\n",
       "      <th>Metascore</th>\n",
       "      <th>Votes</th>\n",
       "      <th>Gross collection</th>\n",
       "      <th>Des</th>\n",
       "      <th>keywords</th>\n",
       "    </tr>\n",
       "  </thead>\n",
       "  <tbody>\n",
       "    <tr>\n",
       "      <th>0</th>\n",
       "      <td>Avatar</td>\n",
       "      <td>2009</td>\n",
       "      <td>162</td>\n",
       "      <td>Action, Adventure, Fantasy</td>\n",
       "      <td>PG-13</td>\n",
       "      <td>7.9</td>\n",
       "      <td>83.0</td>\n",
       "      <td>1,382,237</td>\n",
       "      <td>2,923,706,026</td>\n",
       "      <td>A paraplegic Marine dispatched to the moon Pan...</td>\n",
       "      <td>[{'id': 1463, 'name': 'culture clash'}, {'id':...</td>\n",
       "    </tr>\n",
       "    <tr>\n",
       "      <th>1</th>\n",
       "      <td>Avengers: Endgame</td>\n",
       "      <td>2019</td>\n",
       "      <td>181</td>\n",
       "      <td>Action, Adventure, Drama</td>\n",
       "      <td>PG-13</td>\n",
       "      <td>8.4</td>\n",
       "      <td>78.0</td>\n",
       "      <td>1,258,255</td>\n",
       "      <td>2,799,439,100</td>\n",
       "      <td>After the devastating events of Avengers: Infi...</td>\n",
       "      <td>NaN</td>\n",
       "    </tr>\n",
       "    <tr>\n",
       "      <th>2</th>\n",
       "      <td>Avatar: The Way of Water</td>\n",
       "      <td>2022</td>\n",
       "      <td>192</td>\n",
       "      <td>Action, Adventure, Fantasy</td>\n",
       "      <td>PG-13</td>\n",
       "      <td>7.6</td>\n",
       "      <td>67.0</td>\n",
       "      <td>489,673</td>\n",
       "      <td>2,320,250,281</td>\n",
       "      <td>Jake Sully lives with his newfound family form...</td>\n",
       "      <td>NaN</td>\n",
       "    </tr>\n",
       "    <tr>\n",
       "      <th>3</th>\n",
       "      <td>Titanic</td>\n",
       "      <td>1997</td>\n",
       "      <td>194</td>\n",
       "      <td>Drama, Romance</td>\n",
       "      <td>PG-13</td>\n",
       "      <td>7.9</td>\n",
       "      <td>75.0</td>\n",
       "      <td>1,275,021</td>\n",
       "      <td>2,264,743,305</td>\n",
       "      <td>A seventeen-year-old aristocrat falls in love ...</td>\n",
       "      <td>[{'id': 2580, 'name': 'shipwreck'}, {'id': 298...</td>\n",
       "    </tr>\n",
       "    <tr>\n",
       "      <th>6</th>\n",
       "      <td>Star Wars: Episode VII - The Force Awakens</td>\n",
       "      <td>2015</td>\n",
       "      <td>138</td>\n",
       "      <td>Action, Adventure, Sci-Fi</td>\n",
       "      <td>PG-13</td>\n",
       "      <td>7.8</td>\n",
       "      <td>80.0</td>\n",
       "      <td>971,285</td>\n",
       "      <td>2,071,310,218</td>\n",
       "      <td>As a new threat to the galaxy rises, Rey, a de...</td>\n",
       "      <td>NaN</td>\n",
       "    </tr>\n",
       "    <tr>\n",
       "      <th>...</th>\n",
       "      <td>...</td>\n",
       "      <td>...</td>\n",
       "      <td>...</td>\n",
       "      <td>...</td>\n",
       "      <td>...</td>\n",
       "      <td>...</td>\n",
       "      <td>...</td>\n",
       "      <td>...</td>\n",
       "      <td>...</td>\n",
       "      <td>...</td>\n",
       "      <td>...</td>\n",
       "    </tr>\n",
       "    <tr>\n",
       "      <th>1230</th>\n",
       "      <td>Hot Shots!</td>\n",
       "      <td>1991</td>\n",
       "      <td>85</td>\n",
       "      <td>Action, Comedy</td>\n",
       "      <td>PG-13</td>\n",
       "      <td>6.7</td>\n",
       "      <td>61.0</td>\n",
       "      <td>116,214</td>\n",
       "      <td>181,096,164</td>\n",
       "      <td>A parody of Top Gun (1986) in which a talented...</td>\n",
       "      <td>[{'id': 3269, 'name': 'secret mission'}, {'id'...</td>\n",
       "    </tr>\n",
       "    <tr>\n",
       "      <th>1231</th>\n",
       "      <td>Road to Perdition</td>\n",
       "      <td>2002</td>\n",
       "      <td>117</td>\n",
       "      <td>Crime, Drama, Thriller</td>\n",
       "      <td>R</td>\n",
       "      <td>7.7</td>\n",
       "      <td>72.0</td>\n",
       "      <td>283,762</td>\n",
       "      <td>181,001,478</td>\n",
       "      <td>A mob enforcer's son in 1930s Illinois witness...</td>\n",
       "      <td>[{'id': 18712, 'name': 'based on graphic novel...</td>\n",
       "    </tr>\n",
       "    <tr>\n",
       "      <th>1232</th>\n",
       "      <td>Kill Bill: Vol. 1</td>\n",
       "      <td>2003</td>\n",
       "      <td>111</td>\n",
       "      <td>Action, Crime, Thriller</td>\n",
       "      <td>R</td>\n",
       "      <td>8.2</td>\n",
       "      <td>69.0</td>\n",
       "      <td>1,186,947</td>\n",
       "      <td>180,906,076</td>\n",
       "      <td>After awakening from a four-year coma, a forme...</td>\n",
       "      <td>[{'id': 233, 'name': 'japan'}, {'id': 732, 'na...</td>\n",
       "    </tr>\n",
       "    <tr>\n",
       "      <th>1233</th>\n",
       "      <td>The Scorpion King</td>\n",
       "      <td>2002</td>\n",
       "      <td>92</td>\n",
       "      <td>Action, Adventure, Fantasy</td>\n",
       "      <td>PG-13</td>\n",
       "      <td>5.5</td>\n",
       "      <td>45.0</td>\n",
       "      <td>145,110</td>\n",
       "      <td>180,630,907</td>\n",
       "      <td>A desert warrior rises up against the evil arm...</td>\n",
       "      <td>[{'id': 1160, 'name': 'egypt'}, {'id': 1530, '...</td>\n",
       "    </tr>\n",
       "    <tr>\n",
       "      <th>1234</th>\n",
       "      <td>Sweet Home Alabama</td>\n",
       "      <td>2002</td>\n",
       "      <td>108</td>\n",
       "      <td>Comedy, Romance</td>\n",
       "      <td>PG-13</td>\n",
       "      <td>6.2</td>\n",
       "      <td>45.0</td>\n",
       "      <td>123,172</td>\n",
       "      <td>180,622,424</td>\n",
       "      <td>A young woman who has reinvented herself as a ...</td>\n",
       "      <td>[{'id': 242, 'name': 'new york'}, {'id': 1459,...</td>\n",
       "    </tr>\n",
       "  </tbody>\n",
       "</table>\n",
       "<p>1000 rows × 11 columns</p>\n",
       "</div>"
      ],
      "text/plain": [
       "                                   Name of movie  Year of release  Watchtime  \\\n",
       "0                                         Avatar             2009        162   \n",
       "1                              Avengers: Endgame             2019        181   \n",
       "2                       Avatar: The Way of Water             2022        192   \n",
       "3                                        Titanic             1997        194   \n",
       "6     Star Wars: Episode VII - The Force Awakens             2015        138   \n",
       "...                                          ...              ...        ...   \n",
       "1230                                  Hot Shots!             1991         85   \n",
       "1231                           Road to Perdition             2002        117   \n",
       "1232                           Kill Bill: Vol. 1             2003        111   \n",
       "1233                           The Scorpion King             2002         92   \n",
       "1234                          Sweet Home Alabama             2002        108   \n",
       "\n",
       "                           Genre Classification  Movie Rating  Metascore  \\\n",
       "0     Action, Adventure, Fantasy          PG-13           7.9       83.0   \n",
       "1       Action, Adventure, Drama          PG-13           8.4       78.0   \n",
       "2     Action, Adventure, Fantasy          PG-13           7.6       67.0   \n",
       "3                 Drama, Romance          PG-13           7.9       75.0   \n",
       "6      Action, Adventure, Sci-Fi          PG-13           7.8       80.0   \n",
       "...                          ...            ...           ...        ...   \n",
       "1230              Action, Comedy          PG-13           6.7       61.0   \n",
       "1231      Crime, Drama, Thriller              R           7.7       72.0   \n",
       "1232     Action, Crime, Thriller              R           8.2       69.0   \n",
       "1233  Action, Adventure, Fantasy          PG-13           5.5       45.0   \n",
       "1234             Comedy, Romance          PG-13           6.2       45.0   \n",
       "\n",
       "          Votes Gross collection  \\\n",
       "0     1,382,237    2,923,706,026   \n",
       "1     1,258,255    2,799,439,100   \n",
       "2       489,673    2,320,250,281   \n",
       "3     1,275,021    2,264,743,305   \n",
       "6       971,285    2,071,310,218   \n",
       "...         ...              ...   \n",
       "1230    116,214      181,096,164   \n",
       "1231    283,762      181,001,478   \n",
       "1232  1,186,947      180,906,076   \n",
       "1233    145,110      180,630,907   \n",
       "1234    123,172      180,622,424   \n",
       "\n",
       "                                                    Des  \\\n",
       "0     A paraplegic Marine dispatched to the moon Pan...   \n",
       "1     After the devastating events of Avengers: Infi...   \n",
       "2     Jake Sully lives with his newfound family form...   \n",
       "3     A seventeen-year-old aristocrat falls in love ...   \n",
       "6     As a new threat to the galaxy rises, Rey, a de...   \n",
       "...                                                 ...   \n",
       "1230  A parody of Top Gun (1986) in which a talented...   \n",
       "1231  A mob enforcer's son in 1930s Illinois witness...   \n",
       "1232  After awakening from a four-year coma, a forme...   \n",
       "1233  A desert warrior rises up against the evil arm...   \n",
       "1234  A young woman who has reinvented herself as a ...   \n",
       "\n",
       "                                               keywords  \n",
       "0     [{'id': 1463, 'name': 'culture clash'}, {'id':...  \n",
       "1                                                   NaN  \n",
       "2                                                   NaN  \n",
       "3     [{'id': 2580, 'name': 'shipwreck'}, {'id': 298...  \n",
       "6                                                   NaN  \n",
       "...                                                 ...  \n",
       "1230  [{'id': 3269, 'name': 'secret mission'}, {'id'...  \n",
       "1231  [{'id': 18712, 'name': 'based on graphic novel...  \n",
       "1232  [{'id': 233, 'name': 'japan'}, {'id': 732, 'na...  \n",
       "1233  [{'id': 1160, 'name': 'egypt'}, {'id': 1530, '...  \n",
       "1234  [{'id': 242, 'name': 'new york'}, {'id': 1459,...  \n",
       "\n",
       "[1000 rows x 11 columns]"
      ]
     },
     "execution_count": 10,
     "metadata": {},
     "output_type": "execute_result"
    }
   ],
   "source": [
    "\n",
    "# Đọc file CSV thứ nhất và thứ hai\n",
    "#file movies_metadata có chứa keywords\n",
    "data = pd.read_csv('E:\\\\TH\\\\DS108-Tien xu ly\\\\Project\\\\keywords.csv')\n",
    "movie= pd.read_csv('E:\\\\TH\\\\DS108-Tien xu ly\\\\Project\\\\movie_data.csv')\n",
    "\n",
    "merged_df = movie.merge(data[['title', 'keywords']], left_on=['Name of movie'], right_on=['title'], how='left')\n",
    "merged_df = merged_df.drop(columns=['title'])\n",
    "merged_df.drop_duplicates(subset=[\"Name of movie\",\"Year of release\"], inplace=True)\n",
    "merged_df\n"
   ]
  },
  {
   "cell_type": "code",
   "execution_count": 12,
   "metadata": {},
   "outputs": [],
   "source": [
    "#merged_df.to_csv('E:\\\\TH\\\\DS108-Tien xu ly\\\\ketqua.csv')"
   ]
  },
  {
   "cell_type": "code",
   "execution_count": 3,
   "metadata": {},
   "outputs": [],
   "source": [
    "def convert_keywords_str_id(keywords_str):\n",
    "    # Đảm bảo rằng keywords_str là một chuỗi\n",
    "    keywords_str = str(keywords_str)\n",
    "    # Tách chuỗi keywords_str thành danh sách các từ khóa\n",
    "    keywords = keywords_str.split(', ')\n",
    "    # Chuyển đổi từ khóa thành danh sách các từ điển\n",
    "    keywords_dicts = [{'id': i, 'name': keyword} for i, keyword in enumerate(keywords)]\n",
    "    return keywords_dicts\n"
   ]
  },
  {
   "cell_type": "code",
   "execution_count": 4,
   "metadata": {},
   "outputs": [],
   "source": [
    "def convert_keywords_id_str(keywords_dicts_str):\n",
    "    # Chuyển đổi chuỗi thành danh sách các từ điển\n",
    "    keywords_dicts = ast.literal_eval(keywords_dicts_str)\n",
    "    keywords = [d['name'] for d in keywords_dicts]\n",
    "    keywords_str = ', '.join(keywords)\n",
    "\n",
    "    return keywords_str\n"
   ]
  },
  {
   "cell_type": "code",
   "execution_count": 25,
   "metadata": {},
   "outputs": [],
   "source": [
    "\n",
    "# Tách DataFrame thành hai, một với các bộ phim có từ khóa và một không có từ khóa\n",
    "movie_keywords = merged_df[merged_df['keywords'].notna()]\n",
    "movie_without_keywords = merged_df[merged_df['keywords'].isna()]\n",
    "#movie_keywords.to_csv('E:\\\\TH\\\\DS108-Tien xu ly\\\\Project\\\\movies_with_keywords.csv', index=False)\n",
    "#movie_without_keywords.to_csv('E:\\\\TH\\\\DS108-Tien xu ly\\\\Project\\\\movies_without_keywords.csv', index=False)"
   ]
  },
  {
   "cell_type": "code",
   "execution_count": 19,
   "metadata": {},
   "outputs": [
    {
     "data": {
      "text/html": [
       "<div>\n",
       "<style scoped>\n",
       "    .dataframe tbody tr th:only-of-type {\n",
       "        vertical-align: middle;\n",
       "    }\n",
       "\n",
       "    .dataframe tbody tr th {\n",
       "        vertical-align: top;\n",
       "    }\n",
       "\n",
       "    .dataframe thead th {\n",
       "        text-align: right;\n",
       "    }\n",
       "</style>\n",
       "<table border=\"1\" class=\"dataframe\">\n",
       "  <thead>\n",
       "    <tr style=\"text-align: right;\">\n",
       "      <th></th>\n",
       "      <th>Name of movie</th>\n",
       "      <th>Year of release</th>\n",
       "      <th>Watchtime</th>\n",
       "      <th>Genre</th>\n",
       "      <th>Classification</th>\n",
       "      <th>Movie Rating</th>\n",
       "      <th>Metascore</th>\n",
       "      <th>Votes</th>\n",
       "      <th>Gross collection</th>\n",
       "      <th>Des</th>\n",
       "      <th>id</th>\n",
       "      <th>keywords</th>\n",
       "    </tr>\n",
       "  </thead>\n",
       "  <tbody>\n",
       "    <tr>\n",
       "      <th>0</th>\n",
       "      <td>Avengers: Endgame</td>\n",
       "      <td>2019</td>\n",
       "      <td>181</td>\n",
       "      <td>Action, Adventure, Drama</td>\n",
       "      <td>PG-13</td>\n",
       "      <td>8.4</td>\n",
       "      <td>78.0</td>\n",
       "      <td>1,258,255</td>\n",
       "      <td>2,799,439,100</td>\n",
       "      <td>After the devastating events of Avengers: Infi...</td>\n",
       "      <td>NaN</td>\n",
       "      <td>[{'id': 393, 'name': 'civil war'}, {'id': 6091...</td>\n",
       "    </tr>\n",
       "    <tr>\n",
       "      <th>1</th>\n",
       "      <td>Avatar: The Way of Water</td>\n",
       "      <td>2022</td>\n",
       "      <td>192</td>\n",
       "      <td>Action, Adventure, Fantasy</td>\n",
       "      <td>PG-13</td>\n",
       "      <td>7.6</td>\n",
       "      <td>67.0</td>\n",
       "      <td>489,673</td>\n",
       "      <td>2,320,250,281</td>\n",
       "      <td>Jake Sully lives with his newfound family form...</td>\n",
       "      <td>NaN</td>\n",
       "      <td>[{'id': 1463, 'name': 'culture clash'}, {'id':...</td>\n",
       "    </tr>\n",
       "    <tr>\n",
       "      <th>2</th>\n",
       "      <td>Star Wars: Episode VII - The Force Awakens</td>\n",
       "      <td>2015</td>\n",
       "      <td>138</td>\n",
       "      <td>Action, Adventure, Sci-Fi</td>\n",
       "      <td>PG-13</td>\n",
       "      <td>7.8</td>\n",
       "      <td>80.0</td>\n",
       "      <td>971,285</td>\n",
       "      <td>2,071,310,218</td>\n",
       "      <td>As a new threat to the galaxy rises, Rey, a de...</td>\n",
       "      <td>NaN</td>\n",
       "      <td>[{'id': 797, 'name': 'showdown'}, {'id': 10013...</td>\n",
       "    </tr>\n",
       "    <tr>\n",
       "      <th>3</th>\n",
       "      <td>Avengers: Infinity War</td>\n",
       "      <td>2018</td>\n",
       "      <td>149</td>\n",
       "      <td>Action, Adventure, Sci-Fi</td>\n",
       "      <td>PG-13</td>\n",
       "      <td>8.4</td>\n",
       "      <td>68.0</td>\n",
       "      <td>1,195,837</td>\n",
       "      <td>2,052,415,039</td>\n",
       "      <td>The Avengers and their allies must be willing ...</td>\n",
       "      <td>NaN</td>\n",
       "      <td>[{'id': 1852, 'name': 'mutant'}, {'id': 4769, ...</td>\n",
       "    </tr>\n",
       "    <tr>\n",
       "      <th>4</th>\n",
       "      <td>Spider-Man: No Way Home</td>\n",
       "      <td>2021</td>\n",
       "      <td>148</td>\n",
       "      <td>Action, Adventure, Fantasy</td>\n",
       "      <td>PG-13</td>\n",
       "      <td>8.2</td>\n",
       "      <td>71.0</td>\n",
       "      <td>872,091</td>\n",
       "      <td>1,921,847,111</td>\n",
       "      <td>With Spider-Man's identity now revealed, Peter...</td>\n",
       "      <td>NaN</td>\n",
       "      <td>[{'id': 1872, 'name': 'loss of father'}, {'id'...</td>\n",
       "    </tr>\n",
       "    <tr>\n",
       "      <th>...</th>\n",
       "      <td>...</td>\n",
       "      <td>...</td>\n",
       "      <td>...</td>\n",
       "      <td>...</td>\n",
       "      <td>...</td>\n",
       "      <td>...</td>\n",
       "      <td>...</td>\n",
       "      <td>...</td>\n",
       "      <td>...</td>\n",
       "      <td>...</td>\n",
       "      <td>...</td>\n",
       "      <td>...</td>\n",
       "    </tr>\n",
       "    <tr>\n",
       "      <th>226</th>\n",
       "      <td>Jian Bing Man</td>\n",
       "      <td>2015</td>\n",
       "      <td>113</td>\n",
       "      <td>Comedy</td>\n",
       "      <td>NaN</td>\n",
       "      <td>5.6</td>\n",
       "      <td>NaN</td>\n",
       "      <td>1,393</td>\n",
       "      <td>186,699,768</td>\n",
       "      <td>A story of a disgraced actor struggling to fin...</td>\n",
       "      <td>NaN</td>\n",
       "      <td>[{'id': 1357, 'name': 'fish'}, {'id': 1453, 'n...</td>\n",
       "    </tr>\n",
       "    <tr>\n",
       "      <th>227</th>\n",
       "      <td>The Hitman's Bodyguard</td>\n",
       "      <td>2017</td>\n",
       "      <td>118</td>\n",
       "      <td>Action, Comedy, Crime</td>\n",
       "      <td>R</td>\n",
       "      <td>6.9</td>\n",
       "      <td>47.0</td>\n",
       "      <td>246,294</td>\n",
       "      <td>183,428,689</td>\n",
       "      <td>One of the world's top bodyguards gets a new c...</td>\n",
       "      <td>NaN</td>\n",
       "      <td>[{'id': 1156, 'name': 'sister sister relations...</td>\n",
       "    </tr>\n",
       "    <tr>\n",
       "      <th>228</th>\n",
       "      <td>The Monkey King: Havoc in Heaven's Palace</td>\n",
       "      <td>2014</td>\n",
       "      <td>90</td>\n",
       "      <td>Action, Adventure, Family</td>\n",
       "      <td>Not Rated</td>\n",
       "      <td>4.9</td>\n",
       "      <td>NaN</td>\n",
       "      <td>5,361</td>\n",
       "      <td>182,206,924</td>\n",
       "      <td>A monkey born from heavenly stone acquires sup...</td>\n",
       "      <td>NaN</td>\n",
       "      <td>[{'id': 178856, 'name': 'folklore'}, {'id': 18...</td>\n",
       "    </tr>\n",
       "    <tr>\n",
       "      <th>229</th>\n",
       "      <td>From Vegas to Macau III</td>\n",
       "      <td>2016</td>\n",
       "      <td>113</td>\n",
       "      <td>Comedy, Drama</td>\n",
       "      <td>C16</td>\n",
       "      <td>2.6</td>\n",
       "      <td>NaN</td>\n",
       "      <td>3,334</td>\n",
       "      <td>181,732,879</td>\n",
       "      <td>Ken is holding a wedding ceremony in Macau for...</td>\n",
       "      <td>NaN</td>\n",
       "      <td>[{'id': 1005, 'name': 'karaoke'}, {'id': 1459,...</td>\n",
       "    </tr>\n",
       "    <tr>\n",
       "      <th>230</th>\n",
       "      <td>Cliff Walkers</td>\n",
       "      <td>2021</td>\n",
       "      <td>120</td>\n",
       "      <td>Crime, Drama, Thriller</td>\n",
       "      <td>NaN</td>\n",
       "      <td>6.5</td>\n",
       "      <td>NaN</td>\n",
       "      <td>2,971</td>\n",
       "      <td>181,325,565</td>\n",
       "      <td>In the puppet state of Manchukuo in the 1930s,...</td>\n",
       "      <td>NaN</td>\n",
       "      <td>[{'id': 478, 'name': 'china'}, {'id': 1299, 'n...</td>\n",
       "    </tr>\n",
       "  </tbody>\n",
       "</table>\n",
       "<p>231 rows × 12 columns</p>\n",
       "</div>"
      ],
      "text/plain": [
       "                                  Name of movie  Year of release  Watchtime  \\\n",
       "0                             Avengers: Endgame             2019        181   \n",
       "1                      Avatar: The Way of Water             2022        192   \n",
       "2    Star Wars: Episode VII - The Force Awakens             2015        138   \n",
       "3                        Avengers: Infinity War             2018        149   \n",
       "4                       Spider-Man: No Way Home             2021        148   \n",
       "..                                          ...              ...        ...   \n",
       "226                               Jian Bing Man             2015        113   \n",
       "227                      The Hitman's Bodyguard             2017        118   \n",
       "228   The Monkey King: Havoc in Heaven's Palace             2014         90   \n",
       "229                     From Vegas to Macau III             2016        113   \n",
       "230                               Cliff Walkers             2021        120   \n",
       "\n",
       "                          Genre Classification  Movie Rating  Metascore  \\\n",
       "0      Action, Adventure, Drama          PG-13           8.4       78.0   \n",
       "1    Action, Adventure, Fantasy          PG-13           7.6       67.0   \n",
       "2     Action, Adventure, Sci-Fi          PG-13           7.8       80.0   \n",
       "3     Action, Adventure, Sci-Fi          PG-13           8.4       68.0   \n",
       "4    Action, Adventure, Fantasy          PG-13           8.2       71.0   \n",
       "..                          ...            ...           ...        ...   \n",
       "226                      Comedy            NaN           5.6        NaN   \n",
       "227       Action, Comedy, Crime              R           6.9       47.0   \n",
       "228   Action, Adventure, Family      Not Rated           4.9        NaN   \n",
       "229               Comedy, Drama            C16           2.6        NaN   \n",
       "230      Crime, Drama, Thriller            NaN           6.5        NaN   \n",
       "\n",
       "         Votes Gross collection  \\\n",
       "0    1,258,255    2,799,439,100   \n",
       "1      489,673    2,320,250,281   \n",
       "2      971,285    2,071,310,218   \n",
       "3    1,195,837    2,052,415,039   \n",
       "4      872,091    1,921,847,111   \n",
       "..         ...              ...   \n",
       "226      1,393      186,699,768   \n",
       "227    246,294      183,428,689   \n",
       "228      5,361      182,206,924   \n",
       "229      3,334      181,732,879   \n",
       "230      2,971      181,325,565   \n",
       "\n",
       "                                                   Des  id  \\\n",
       "0    After the devastating events of Avengers: Infi... NaN   \n",
       "1    Jake Sully lives with his newfound family form... NaN   \n",
       "2    As a new threat to the galaxy rises, Rey, a de... NaN   \n",
       "3    The Avengers and their allies must be willing ... NaN   \n",
       "4    With Spider-Man's identity now revealed, Peter... NaN   \n",
       "..                                                 ...  ..   \n",
       "226  A story of a disgraced actor struggling to fin... NaN   \n",
       "227  One of the world's top bodyguards gets a new c... NaN   \n",
       "228  A monkey born from heavenly stone acquires sup... NaN   \n",
       "229  Ken is holding a wedding ceremony in Macau for... NaN   \n",
       "230  In the puppet state of Manchukuo in the 1930s,... NaN   \n",
       "\n",
       "                                              keywords  \n",
       "0    [{'id': 393, 'name': 'civil war'}, {'id': 6091...  \n",
       "1    [{'id': 1463, 'name': 'culture clash'}, {'id':...  \n",
       "2    [{'id': 797, 'name': 'showdown'}, {'id': 10013...  \n",
       "3    [{'id': 1852, 'name': 'mutant'}, {'id': 4769, ...  \n",
       "4    [{'id': 1872, 'name': 'loss of father'}, {'id'...  \n",
       "..                                                 ...  \n",
       "226  [{'id': 1357, 'name': 'fish'}, {'id': 1453, 'n...  \n",
       "227  [{'id': 1156, 'name': 'sister sister relations...  \n",
       "228  [{'id': 178856, 'name': 'folklore'}, {'id': 18...  \n",
       "229  [{'id': 1005, 'name': 'karaoke'}, {'id': 1459,...  \n",
       "230  [{'id': 478, 'name': 'china'}, {'id': 1299, 'n...  \n",
       "\n",
       "[231 rows x 12 columns]"
      ]
     },
     "execution_count": 19,
     "metadata": {},
     "output_type": "execute_result"
    }
   ],
   "source": [
    "movie_keywords=pd.read_csv('E:\\\\TH\\\\DS108-Tien xu ly\\\\Project\\\\movies_with_keywords.csv')\n",
    "movie_without_keywords=pd.read_csv('E:\\\\TH\\\\DS108-Tien xu ly\\\\Project\\\\movies_without_keywords.csv')\n",
    "vectorizer = TfidfVectorizer()\n",
    "\n",
    "    # Huấn luyện vectorizer và chuyển đổi Des của old_movies và new_movies thành vectơ TF-IDF\n",
    "old_movies_des_tfidf = vectorizer.fit_transform(movie_keywords['Des'] + ' ' + movie_keywords['Name of movie'])\n",
    "new_movies_des_tfidf = vectorizer.transform(movie_without_keywords['Des'] + ' ' + movie_without_keywords['Name of movie'])\n",
    "\n",
    "    # Tính toán cosine similarity giữa Des của old_movies và new_movies\n",
    "cosine_sim = cosine_similarity(new_movies_des_tfidf, old_movies_des_tfidf)\n",
    "\n",
    "    # Dự đoán keywords cho new_movies dựa trên cosine similarity\n",
    "movie_without_keywords['keywords'] = movie_keywords.loc[cosine_sim.argmax(axis=1), 'keywords'].values\n",
    "movie_without_keywords"
   ]
  },
  {
   "cell_type": "code",
   "execution_count": 22,
   "metadata": {},
   "outputs": [
    {
     "name": "stdout",
     "output_type": "stream",
     "text": [
      "Số lượng phần tử rỗng trong cột 'keywords': 0\n"
     ]
    },
    {
     "data": {
      "text/html": [
       "<div>\n",
       "<style scoped>\n",
       "    .dataframe tbody tr th:only-of-type {\n",
       "        vertical-align: middle;\n",
       "    }\n",
       "\n",
       "    .dataframe tbody tr th {\n",
       "        vertical-align: top;\n",
       "    }\n",
       "\n",
       "    .dataframe thead th {\n",
       "        text-align: right;\n",
       "    }\n",
       "</style>\n",
       "<table border=\"1\" class=\"dataframe\">\n",
       "  <thead>\n",
       "    <tr style=\"text-align: right;\">\n",
       "      <th></th>\n",
       "      <th>Name of movie</th>\n",
       "      <th>Year of release</th>\n",
       "      <th>Watchtime</th>\n",
       "      <th>Genre</th>\n",
       "      <th>Classification</th>\n",
       "      <th>Movie Rating</th>\n",
       "      <th>Metascore</th>\n",
       "      <th>Votes</th>\n",
       "      <th>Gross collection</th>\n",
       "      <th>Des</th>\n",
       "      <th>id</th>\n",
       "      <th>keywords</th>\n",
       "    </tr>\n",
       "  </thead>\n",
       "  <tbody>\n",
       "    <tr>\n",
       "      <th>842</th>\n",
       "      <td>Ant-Man and the Wasp: Quantumania</td>\n",
       "      <td>2023</td>\n",
       "      <td>124</td>\n",
       "      <td>Action, Adventure, Comedy</td>\n",
       "      <td>PG-13</td>\n",
       "      <td>6.1</td>\n",
       "      <td>48.0</td>\n",
       "      <td>225,565</td>\n",
       "      <td>476,071,180</td>\n",
       "      <td>Scott Lang and Hope Van Dyne are dragged into ...</td>\n",
       "      <td>NaN</td>\n",
       "      <td>[{'id': 8828, 'name': 'marvel comic'}, {'id': ...</td>\n",
       "    </tr>\n",
       "    <tr>\n",
       "      <th>828</th>\n",
       "      <td>Mission: Impossible - Dead Reckoning Part One</td>\n",
       "      <td>2023</td>\n",
       "      <td>163</td>\n",
       "      <td>Action, Adventure, Thriller</td>\n",
       "      <td>PG-13</td>\n",
       "      <td>7.7</td>\n",
       "      <td>81.0</td>\n",
       "      <td>241,622</td>\n",
       "      <td>567,535,383</td>\n",
       "      <td>Ethan Hunt and his IMF team must track down a ...</td>\n",
       "      <td>NaN</td>\n",
       "      <td>[{'id': 220, 'name': 'berlin'}, {'id': 591, 'n...</td>\n",
       "    </tr>\n",
       "    <tr>\n",
       "      <th>965</th>\n",
       "      <td>Dungeons &amp; Dragons: Honor Among Thieves</td>\n",
       "      <td>2023</td>\n",
       "      <td>134</td>\n",
       "      <td>Action, Adventure, Comedy</td>\n",
       "      <td>PG-13</td>\n",
       "      <td>7.2</td>\n",
       "      <td>72.0</td>\n",
       "      <td>221,825</td>\n",
       "      <td>208,177,026</td>\n",
       "      <td>A charming thief and a band of unlikely advent...</td>\n",
       "      <td>NaN</td>\n",
       "      <td>[{'id': 6054, 'name': 'friendship'}, {'id': 98...</td>\n",
       "    </tr>\n",
       "    <tr>\n",
       "      <th>816</th>\n",
       "      <td>Fast X</td>\n",
       "      <td>2023</td>\n",
       "      <td>141</td>\n",
       "      <td>Action, Adventure, Crime</td>\n",
       "      <td>PG-13</td>\n",
       "      <td>5.8</td>\n",
       "      <td>56.0</td>\n",
       "      <td>117,445</td>\n",
       "      <td>704,709,660</td>\n",
       "      <td>Dom Toretto and his family are targeted by the...</td>\n",
       "      <td>NaN</td>\n",
       "      <td>[{'id': 1161, 'name': 'brazil'}, {'id': 1812, ...</td>\n",
       "    </tr>\n",
       "    <tr>\n",
       "      <th>853</th>\n",
       "      <td>John Wick: Chapter 4</td>\n",
       "      <td>2023</td>\n",
       "      <td>169</td>\n",
       "      <td>Action, Crime, Thriller</td>\n",
       "      <td>R</td>\n",
       "      <td>7.7</td>\n",
       "      <td>78.0</td>\n",
       "      <td>329,389</td>\n",
       "      <td>440,146,694</td>\n",
       "      <td>John Wick uncovers a path to defeating The Hig...</td>\n",
       "      <td>NaN</td>\n",
       "      <td>[{'id': 476, 'name': 'self-fulfilling prophecy...</td>\n",
       "    </tr>\n",
       "    <tr>\n",
       "      <th>...</th>\n",
       "      <td>...</td>\n",
       "      <td>...</td>\n",
       "      <td>...</td>\n",
       "      <td>...</td>\n",
       "      <td>...</td>\n",
       "      <td>...</td>\n",
       "      <td>...</td>\n",
       "      <td>...</td>\n",
       "      <td>...</td>\n",
       "      <td>...</td>\n",
       "      <td>...</td>\n",
       "      <td>...</td>\n",
       "    </tr>\n",
       "    <tr>\n",
       "      <th>663</th>\n",
       "      <td>The Jungle Book</td>\n",
       "      <td>1967</td>\n",
       "      <td>78</td>\n",
       "      <td>Animation, Adventure, Comedy</td>\n",
       "      <td>G</td>\n",
       "      <td>7.6</td>\n",
       "      <td>65.0</td>\n",
       "      <td>197,880</td>\n",
       "      <td>205,843,612</td>\n",
       "      <td>Bagheera the Panther and Baloo the Bear have a...</td>\n",
       "      <td>9325.0</td>\n",
       "      <td>[{'id': 958, 'name': 'indian lead'}, {'id': 23...</td>\n",
       "    </tr>\n",
       "    <tr>\n",
       "      <th>620</th>\n",
       "      <td>One Hundred and One Dalmatians</td>\n",
       "      <td>1961</td>\n",
       "      <td>79</td>\n",
       "      <td>Animation, Adventure, Comedy</td>\n",
       "      <td>G</td>\n",
       "      <td>7.3</td>\n",
       "      <td>83.0</td>\n",
       "      <td>181,492</td>\n",
       "      <td>215,880,014</td>\n",
       "      <td>When a litter of Dalmatian puppies are abducte...</td>\n",
       "      <td>12230.0</td>\n",
       "      <td>[{'id': 8841, 'name': 'puppy'}, {'id': 10336, ...</td>\n",
       "    </tr>\n",
       "    <tr>\n",
       "      <th>467</th>\n",
       "      <td>Bambi</td>\n",
       "      <td>1942</td>\n",
       "      <td>69</td>\n",
       "      <td>Animation, Adventure, Drama</td>\n",
       "      <td>G</td>\n",
       "      <td>7.3</td>\n",
       "      <td>91.0</td>\n",
       "      <td>153,525</td>\n",
       "      <td>267,447,150</td>\n",
       "      <td>The story of a young deer growing up in the fo...</td>\n",
       "      <td>3170.0</td>\n",
       "      <td>[{'id': 5774, 'name': 'forest'}, {'id': 10683,...</td>\n",
       "    </tr>\n",
       "    <tr>\n",
       "      <th>245</th>\n",
       "      <td>Gone with the Wind</td>\n",
       "      <td>1939</td>\n",
       "      <td>238</td>\n",
       "      <td>Drama, Romance, War</td>\n",
       "      <td>Passed</td>\n",
       "      <td>8.2</td>\n",
       "      <td>97.0</td>\n",
       "      <td>333,102</td>\n",
       "      <td>402,382,193</td>\n",
       "      <td>A sheltered and manipulative Southern belle an...</td>\n",
       "      <td>770.0</td>\n",
       "      <td>[{'id': 314, 'name': 'life and death'}, {'id':...</td>\n",
       "    </tr>\n",
       "    <tr>\n",
       "      <th>743</th>\n",
       "      <td>Snow White and the Seven Dwarfs</td>\n",
       "      <td>1937</td>\n",
       "      <td>83</td>\n",
       "      <td>Animation, Adventure, Family</td>\n",
       "      <td>Approved</td>\n",
       "      <td>7.6</td>\n",
       "      <td>96.0</td>\n",
       "      <td>214,621</td>\n",
       "      <td>184,960,471</td>\n",
       "      <td>Exiled into the dangerous forest by her wicked...</td>\n",
       "      <td>408.0</td>\n",
       "      <td>[{'id': 351, 'name': 'poison'}, {'id': 616, 'n...</td>\n",
       "    </tr>\n",
       "  </tbody>\n",
       "</table>\n",
       "<p>1001 rows × 12 columns</p>\n",
       "</div>"
      ],
      "text/plain": [
       "                                     Name of movie  Year of release  \\\n",
       "842              Ant-Man and the Wasp: Quantumania             2023   \n",
       "828  Mission: Impossible - Dead Reckoning Part One             2023   \n",
       "965        Dungeons & Dragons: Honor Among Thieves             2023   \n",
       "816                                         Fast X             2023   \n",
       "853                           John Wick: Chapter 4             2023   \n",
       "..                                             ...              ...   \n",
       "663                                The Jungle Book             1967   \n",
       "620                 One Hundred and One Dalmatians             1961   \n",
       "467                                          Bambi             1942   \n",
       "245                             Gone with the Wind             1939   \n",
       "743                Snow White and the Seven Dwarfs             1937   \n",
       "\n",
       "     Watchtime                         Genre Classification  Movie Rating  \\\n",
       "842        124     Action, Adventure, Comedy          PG-13           6.1   \n",
       "828        163   Action, Adventure, Thriller          PG-13           7.7   \n",
       "965        134     Action, Adventure, Comedy          PG-13           7.2   \n",
       "816        141      Action, Adventure, Crime          PG-13           5.8   \n",
       "853        169       Action, Crime, Thriller              R           7.7   \n",
       "..         ...                           ...            ...           ...   \n",
       "663         78  Animation, Adventure, Comedy              G           7.6   \n",
       "620         79  Animation, Adventure, Comedy              G           7.3   \n",
       "467         69   Animation, Adventure, Drama              G           7.3   \n",
       "245        238           Drama, Romance, War         Passed           8.2   \n",
       "743         83  Animation, Adventure, Family       Approved           7.6   \n",
       "\n",
       "     Metascore    Votes Gross collection  \\\n",
       "842       48.0  225,565      476,071,180   \n",
       "828       81.0  241,622      567,535,383   \n",
       "965       72.0  221,825      208,177,026   \n",
       "816       56.0  117,445      704,709,660   \n",
       "853       78.0  329,389      440,146,694   \n",
       "..         ...      ...              ...   \n",
       "663       65.0  197,880      205,843,612   \n",
       "620       83.0  181,492      215,880,014   \n",
       "467       91.0  153,525      267,447,150   \n",
       "245       97.0  333,102      402,382,193   \n",
       "743       96.0  214,621      184,960,471   \n",
       "\n",
       "                                                   Des       id  \\\n",
       "842  Scott Lang and Hope Van Dyne are dragged into ...      NaN   \n",
       "828  Ethan Hunt and his IMF team must track down a ...      NaN   \n",
       "965  A charming thief and a band of unlikely advent...      NaN   \n",
       "816  Dom Toretto and his family are targeted by the...      NaN   \n",
       "853  John Wick uncovers a path to defeating The Hig...      NaN   \n",
       "..                                                 ...      ...   \n",
       "663  Bagheera the Panther and Baloo the Bear have a...   9325.0   \n",
       "620  When a litter of Dalmatian puppies are abducte...  12230.0   \n",
       "467  The story of a young deer growing up in the fo...   3170.0   \n",
       "245  A sheltered and manipulative Southern belle an...    770.0   \n",
       "743  Exiled into the dangerous forest by her wicked...    408.0   \n",
       "\n",
       "                                              keywords  \n",
       "842  [{'id': 8828, 'name': 'marvel comic'}, {'id': ...  \n",
       "828  [{'id': 220, 'name': 'berlin'}, {'id': 591, 'n...  \n",
       "965  [{'id': 6054, 'name': 'friendship'}, {'id': 98...  \n",
       "816  [{'id': 1161, 'name': 'brazil'}, {'id': 1812, ...  \n",
       "853  [{'id': 476, 'name': 'self-fulfilling prophecy...  \n",
       "..                                                 ...  \n",
       "663  [{'id': 958, 'name': 'indian lead'}, {'id': 23...  \n",
       "620  [{'id': 8841, 'name': 'puppy'}, {'id': 10336, ...  \n",
       "467  [{'id': 5774, 'name': 'forest'}, {'id': 10683,...  \n",
       "245  [{'id': 314, 'name': 'life and death'}, {'id':...  \n",
       "743  [{'id': 351, 'name': 'poison'}, {'id': 616, 'n...  \n",
       "\n",
       "[1001 rows x 12 columns]"
      ]
     },
     "execution_count": 22,
     "metadata": {},
     "output_type": "execute_result"
    }
   ],
   "source": [
    "\n",
    "movie_keywords=pd.read_csv(\"E:\\\\TH\\\\DS108-Tien xu ly\\\\Project\\\\movies_with_keywords.csv\")\n",
    "#movie_keywords['keywords'] = movie_keywords['keywords'].apply(convert_keywords_id_str)\n",
    "# Gộp hai DataFrame lại với nhau\n",
    "merged_df12 = pd.concat([movie_keywords, movie_without_keywords], ignore_index=True).sort_values(by='Year of release', ascending=False)\n",
    "\n",
    "# Kiểm tra xem có phần tử nào trong cột 'keywords' rỗng không\n",
    "empty_keywords = merged_df12['keywords'].isna().sum()\n",
    "print(f\"Số lượng phần tử rỗng trong cột 'keywords': {empty_keywords}\")\n",
    "merged_df12\n",
    "\n",
    "#merged_df12.to_csv('E:\\\\TH\\\\DS108-Tien xu ly\\\\Project\\\\movieoffical.csv')"
   ]
  },
  {
   "cell_type": "code",
   "execution_count": 9,
   "metadata": {},
   "outputs": [
    {
     "data": {
      "text/html": [
       "<div>\n",
       "<style scoped>\n",
       "    .dataframe tbody tr th:only-of-type {\n",
       "        vertical-align: middle;\n",
       "    }\n",
       "\n",
       "    .dataframe tbody tr th {\n",
       "        vertical-align: top;\n",
       "    }\n",
       "\n",
       "    .dataframe thead th {\n",
       "        text-align: right;\n",
       "    }\n",
       "</style>\n",
       "<table border=\"1\" class=\"dataframe\">\n",
       "  <thead>\n",
       "    <tr style=\"text-align: right;\">\n",
       "      <th></th>\n",
       "      <th>Name of movie</th>\n",
       "      <th>Year of release</th>\n",
       "      <th>Watchtime</th>\n",
       "      <th>Genre</th>\n",
       "      <th>Classification</th>\n",
       "      <th>Movie Rating</th>\n",
       "      <th>Metascore</th>\n",
       "      <th>Votes</th>\n",
       "      <th>Gross collection</th>\n",
       "      <th>Des</th>\n",
       "      <th>id</th>\n",
       "      <th>keywords</th>\n",
       "    </tr>\n",
       "  </thead>\n",
       "  <tbody>\n",
       "    <tr>\n",
       "      <th>0</th>\n",
       "      <td>Ant-Man and the Wasp: Quantumania</td>\n",
       "      <td>2023</td>\n",
       "      <td>124</td>\n",
       "      <td>Action, Adventure, Comedy</td>\n",
       "      <td>PG-13</td>\n",
       "      <td>6.1</td>\n",
       "      <td>48.0</td>\n",
       "      <td>225,565</td>\n",
       "      <td>476,071,180</td>\n",
       "      <td>Scott Lang and Hope Van Dyne are dragged into ...</td>\n",
       "      <td>NaN</td>\n",
       "      <td>marvel comic, superhero, based on comic, after...</td>\n",
       "    </tr>\n",
       "    <tr>\n",
       "      <th>1</th>\n",
       "      <td>Mission: Impossible - Dead Reckoning Part One</td>\n",
       "      <td>2023</td>\n",
       "      <td>163</td>\n",
       "      <td>Action, Adventure, Thriller</td>\n",
       "      <td>PG-13</td>\n",
       "      <td>7.7</td>\n",
       "      <td>81.0</td>\n",
       "      <td>241,622</td>\n",
       "      <td>567,535,383</td>\n",
       "      <td>Ethan Hunt and his IMF team must track down a ...</td>\n",
       "      <td>NaN</td>\n",
       "      <td>berlin, cia, vatican, white house, secret iden...</td>\n",
       "    </tr>\n",
       "    <tr>\n",
       "      <th>2</th>\n",
       "      <td>Dungeons &amp; Dragons: Honor Among Thieves</td>\n",
       "      <td>2023</td>\n",
       "      <td>134</td>\n",
       "      <td>Action, Adventure, Comedy</td>\n",
       "      <td>PG-13</td>\n",
       "      <td>7.2</td>\n",
       "      <td>72.0</td>\n",
       "      <td>221,825</td>\n",
       "      <td>208,177,026</td>\n",
       "      <td>A charming thief and a band of unlikely advent...</td>\n",
       "      <td>NaN</td>\n",
       "      <td>friendship, spaceship, space, alien, alien inv...</td>\n",
       "    </tr>\n",
       "    <tr>\n",
       "      <th>3</th>\n",
       "      <td>Fast X</td>\n",
       "      <td>2023</td>\n",
       "      <td>141</td>\n",
       "      <td>Action, Adventure, Crime</td>\n",
       "      <td>PG-13</td>\n",
       "      <td>5.8</td>\n",
       "      <td>56.0</td>\n",
       "      <td>117,445</td>\n",
       "      <td>704,709,660</td>\n",
       "      <td>Dom Toretto and his family are targeted by the...</td>\n",
       "      <td>NaN</td>\n",
       "      <td>brazil, fbi, freedom, escape from prison, car ...</td>\n",
       "    </tr>\n",
       "    <tr>\n",
       "      <th>4</th>\n",
       "      <td>John Wick: Chapter 4</td>\n",
       "      <td>2023</td>\n",
       "      <td>169</td>\n",
       "      <td>Action, Crime, Thriller</td>\n",
       "      <td>R</td>\n",
       "      <td>7.7</td>\n",
       "      <td>78.0</td>\n",
       "      <td>329,389</td>\n",
       "      <td>440,146,694</td>\n",
       "      <td>John Wick uncovers a path to defeating The Hig...</td>\n",
       "      <td>NaN</td>\n",
       "      <td>self-fulfilling prophecy, washington d.c., evi...</td>\n",
       "    </tr>\n",
       "    <tr>\n",
       "      <th>...</th>\n",
       "      <td>...</td>\n",
       "      <td>...</td>\n",
       "      <td>...</td>\n",
       "      <td>...</td>\n",
       "      <td>...</td>\n",
       "      <td>...</td>\n",
       "      <td>...</td>\n",
       "      <td>...</td>\n",
       "      <td>...</td>\n",
       "      <td>...</td>\n",
       "      <td>...</td>\n",
       "      <td>...</td>\n",
       "    </tr>\n",
       "    <tr>\n",
       "      <th>996</th>\n",
       "      <td>The Jungle Book</td>\n",
       "      <td>1967</td>\n",
       "      <td>78</td>\n",
       "      <td>Animation, Adventure, Comedy</td>\n",
       "      <td>G</td>\n",
       "      <td>7.6</td>\n",
       "      <td>65.0</td>\n",
       "      <td>197,880</td>\n",
       "      <td>205,843,612</td>\n",
       "      <td>Bagheera the Panther and Baloo the Bear have a...</td>\n",
       "      <td>9325.0</td>\n",
       "      <td>indian lead, narration, human animal relations...</td>\n",
       "    </tr>\n",
       "    <tr>\n",
       "      <th>997</th>\n",
       "      <td>One Hundred and One Dalmatians</td>\n",
       "      <td>1961</td>\n",
       "      <td>79</td>\n",
       "      <td>Animation, Adventure, Comedy</td>\n",
       "      <td>G</td>\n",
       "      <td>7.3</td>\n",
       "      <td>83.0</td>\n",
       "      <td>181,492</td>\n",
       "      <td>215,880,014</td>\n",
       "      <td>When a litter of Dalmatian puppies are abducte...</td>\n",
       "      <td>12230.0</td>\n",
       "      <td>puppy, animation, dog, dalmatian</td>\n",
       "    </tr>\n",
       "    <tr>\n",
       "      <th>998</th>\n",
       "      <td>Bambi</td>\n",
       "      <td>1942</td>\n",
       "      <td>69</td>\n",
       "      <td>Animation, Adventure, Drama</td>\n",
       "      <td>G</td>\n",
       "      <td>7.3</td>\n",
       "      <td>91.0</td>\n",
       "      <td>153,525</td>\n",
       "      <td>267,447,150</td>\n",
       "      <td>The story of a young deer growing up in the fo...</td>\n",
       "      <td>3170.0</td>\n",
       "      <td>forest, coming of age, best friend, loss of lo...</td>\n",
       "    </tr>\n",
       "    <tr>\n",
       "      <th>999</th>\n",
       "      <td>Gone with the Wind</td>\n",
       "      <td>1939</td>\n",
       "      <td>238</td>\n",
       "      <td>Drama, Romance, War</td>\n",
       "      <td>Passed</td>\n",
       "      <td>8.2</td>\n",
       "      <td>97.0</td>\n",
       "      <td>333,102</td>\n",
       "      <td>402,382,193</td>\n",
       "      <td>A sheltered and manipulative Southern belle an...</td>\n",
       "      <td>770.0</td>\n",
       "      <td>life and death, civil war, southern usa, loss ...</td>\n",
       "    </tr>\n",
       "    <tr>\n",
       "      <th>1000</th>\n",
       "      <td>Snow White and the Seven Dwarfs</td>\n",
       "      <td>1937</td>\n",
       "      <td>83</td>\n",
       "      <td>Animation, Adventure, Family</td>\n",
       "      <td>Approved</td>\n",
       "      <td>7.6</td>\n",
       "      <td>96.0</td>\n",
       "      <td>214,621</td>\n",
       "      <td>184,960,471</td>\n",
       "      <td>Exiled into the dangerous forest by her wicked...</td>\n",
       "      <td>408.0</td>\n",
       "      <td>poison, witch, becoming an adult, sadness, que...</td>\n",
       "    </tr>\n",
       "  </tbody>\n",
       "</table>\n",
       "<p>1001 rows × 12 columns</p>\n",
       "</div>"
      ],
      "text/plain": [
       "                                      Name of movie  Year of release  \\\n",
       "0                 Ant-Man and the Wasp: Quantumania             2023   \n",
       "1     Mission: Impossible - Dead Reckoning Part One             2023   \n",
       "2           Dungeons & Dragons: Honor Among Thieves             2023   \n",
       "3                                            Fast X             2023   \n",
       "4                              John Wick: Chapter 4             2023   \n",
       "...                                             ...              ...   \n",
       "996                                 The Jungle Book             1967   \n",
       "997                  One Hundred and One Dalmatians             1961   \n",
       "998                                           Bambi             1942   \n",
       "999                              Gone with the Wind             1939   \n",
       "1000                Snow White and the Seven Dwarfs             1937   \n",
       "\n",
       "      Watchtime                         Genre Classification  Movie Rating  \\\n",
       "0           124     Action, Adventure, Comedy          PG-13           6.1   \n",
       "1           163   Action, Adventure, Thriller          PG-13           7.7   \n",
       "2           134     Action, Adventure, Comedy          PG-13           7.2   \n",
       "3           141      Action, Adventure, Crime          PG-13           5.8   \n",
       "4           169       Action, Crime, Thriller              R           7.7   \n",
       "...         ...                           ...            ...           ...   \n",
       "996          78  Animation, Adventure, Comedy              G           7.6   \n",
       "997          79  Animation, Adventure, Comedy              G           7.3   \n",
       "998          69   Animation, Adventure, Drama              G           7.3   \n",
       "999         238           Drama, Romance, War         Passed           8.2   \n",
       "1000         83  Animation, Adventure, Family       Approved           7.6   \n",
       "\n",
       "      Metascore    Votes Gross collection  \\\n",
       "0          48.0  225,565      476,071,180   \n",
       "1          81.0  241,622      567,535,383   \n",
       "2          72.0  221,825      208,177,026   \n",
       "3          56.0  117,445      704,709,660   \n",
       "4          78.0  329,389      440,146,694   \n",
       "...         ...      ...              ...   \n",
       "996        65.0  197,880      205,843,612   \n",
       "997        83.0  181,492      215,880,014   \n",
       "998        91.0  153,525      267,447,150   \n",
       "999        97.0  333,102      402,382,193   \n",
       "1000       96.0  214,621      184,960,471   \n",
       "\n",
       "                                                    Des       id  \\\n",
       "0     Scott Lang and Hope Van Dyne are dragged into ...      NaN   \n",
       "1     Ethan Hunt and his IMF team must track down a ...      NaN   \n",
       "2     A charming thief and a band of unlikely advent...      NaN   \n",
       "3     Dom Toretto and his family are targeted by the...      NaN   \n",
       "4     John Wick uncovers a path to defeating The Hig...      NaN   \n",
       "...                                                 ...      ...   \n",
       "996   Bagheera the Panther and Baloo the Bear have a...   9325.0   \n",
       "997   When a litter of Dalmatian puppies are abducte...  12230.0   \n",
       "998   The story of a young deer growing up in the fo...   3170.0   \n",
       "999   A sheltered and manipulative Southern belle an...    770.0   \n",
       "1000  Exiled into the dangerous forest by her wicked...    408.0   \n",
       "\n",
       "                                               keywords  \n",
       "0     marvel comic, superhero, based on comic, after...  \n",
       "1     berlin, cia, vatican, white house, secret iden...  \n",
       "2     friendship, spaceship, space, alien, alien inv...  \n",
       "3     brazil, fbi, freedom, escape from prison, car ...  \n",
       "4     self-fulfilling prophecy, washington d.c., evi...  \n",
       "...                                                 ...  \n",
       "996   indian lead, narration, human animal relations...  \n",
       "997                    puppy, animation, dog, dalmatian  \n",
       "998   forest, coming of age, best friend, loss of lo...  \n",
       "999   life and death, civil war, southern usa, loss ...  \n",
       "1000  poison, witch, becoming an adult, sadness, que...  \n",
       "\n",
       "[1001 rows x 12 columns]"
      ]
     },
     "execution_count": 9,
     "metadata": {},
     "output_type": "execute_result"
    }
   ],
   "source": [
    "offical = pd.read_csv('E:\\\\TH\\\\DS108-Tien xu ly\\\\Project\\\\movieoffical.csv')\n",
    "\n",
    "# Thay thế các giá trị NaN trong cột 'keywords' bằng một chuỗi rỗng\n",
    "offical['keywords'] = offical['keywords'].fillna('')\n",
    "\n",
    "# Chuyển đổi từ khóa\n",
    "offical['keywords'] = offical['keywords'].apply(convert_keywords_id_str)\n",
    "offical\n",
    "#offical.to_csv('E:\\\\TH\\\\DS108-Tien xu ly\\\\Project\\\\movieoffical-converted.csv')"
   ]
  },
  {
   "cell_type": "markdown",
   "metadata": {},
   "source": [
    "# VISUALIZE"
   ]
  },
  {
   "cell_type": "code",
   "execution_count": 4,
   "metadata": {},
   "outputs": [
    {
     "name": "stdout",
     "output_type": "stream",
     "text": [
      "<class 'pandas.core.frame.DataFrame'>\n",
      "RangeIndex: 1001 entries, 0 to 1000\n",
      "Data columns (total 12 columns):\n",
      " #   Column            Non-Null Count  Dtype  \n",
      "---  ------            --------------  -----  \n",
      " 0   Name of movie     1001 non-null   object \n",
      " 1   Year of release   1001 non-null   int64  \n",
      " 2   Watchtime         1001 non-null   int64  \n",
      " 3   Genre             1001 non-null   object \n",
      " 4   Classification    979 non-null    object \n",
      " 5   Movie Rating      1001 non-null   float64\n",
      " 6   Metascore         963 non-null    float64\n",
      " 7   Votes             1001 non-null   object \n",
      " 8   Gross collection  1001 non-null   object \n",
      " 9   Des               1001 non-null   object \n",
      " 10  id                770 non-null    float64\n",
      " 11  keywords          992 non-null    object \n",
      "dtypes: float64(3), int64(2), object(7)\n",
      "memory usage: 94.0+ KB\n"
     ]
    }
   ],
   "source": [
    "movie = pd.read_csv('E:\\\\TH\\\\DS108-Tien xu ly\\\\Project\\\\movieoffical-converted.csv')\n",
    "movie.info()"
   ]
  },
  {
   "cell_type": "code",
   "execution_count": 8,
   "metadata": {},
   "outputs": [
    {
     "data": {
      "image/png": "[encoded data removed]",
      "text/plain": [
       "<Figure size 1000x600 with 1 Axes>"
      ]
     },
     "metadata": {},
     "output_type": "display_data"
    }
   ],
   "source": [
    "Genre = movie['Genre']\n",
    "genre_encoded = Genre.str.get_dummies(sep=', ')\n",
    "genre_counts = genre_encoded.iloc[:, 1:].sum().sort_values(ascending=False)\n",
    "\n",
    "plt.figure(figsize=(10, 6))\n",
    "genre_counts.sort_values().plot(kind='barh', color=plt.cm.tab20.colors)\n",
    "plt.title('Number of movie genres')\n",
    "plt.xlabel('Nums')\n",
    "plt.ylabel('Genre')\n",
    "for i, count in enumerate(genre_counts.sort_values()):\n",
    "    plt.text(count, i, f\"{count:.0f}\", va=\"center\")\n",
    "plt.tight_layout()\n",
    "plt.show()"
   ]
  },
  {
   "cell_type": "code",
   "execution_count": 13,
   "metadata": {},
   "outputs": [
    {
     "data": {
      "image/png": "[encoded data removed]",
      "text/plain": [
       "<Figure size 1000x500 with 1 Axes>"
      ]
     },
     "metadata": {},
     "output_type": "display_data"
    }
   ],
   "source": [
    "from wordcloud import WordCloud\n",
    "keywords = movie['keywords']\n",
    "keywords_dummies = keywords.str.get_dummies(sep=', ')\n",
    "keywords_counts = keywords_dummies.iloc[:, 1:].sum().sort_values(ascending=False)\n",
    "# Kết hợp tất cả từ khóa thành một chuỗi với tần suất của chúng\n",
    "all_keywords = ' '.join([f\"{word} \" * freq for word, freq in keywords_counts.items()])\n",
    "\n",
    "# Tạo word cloud\n",
    "wordcloud = WordCloud(width=800, height=400, background_color='white').generate(all_keywords)\n",
    "\n",
    "# Hiển thị word cloud\n",
    "plt.figure(figsize=(10, 5))\n",
    "plt.imshow(wordcloud, interpolation='bilinear')\n",
    "plt.axis('off')\n",
    "plt.show()"
   ]
  },
  {
   "cell_type": "code",
   "execution_count": 14,
   "metadata": {},
   "outputs": [
    {
     "data": {
      "image/png": "[encoded data removed]",
      "text/plain": [
       "<Figure size 2000x800 with 2 Axes>"
      ]
     },
     "metadata": {},
     "output_type": "display_data"
    }
   ],
   "source": [
    "# Tính toán phần trăm tích lũy của tần suất\n",
    "cum_percentage = keywords_counts.cumsum() / keywords_counts.sum() * 100\n",
    "\n",
    "# Vẽ biểu đồ Pareto\n",
    "fig, ax1 = plt.subplots(figsize=(20, 8))\n",
    "\n",
    "ax1.bar(keywords_counts.index[:10], keywords_counts.values[:10], color='C0')\n",
    "ax2 = ax1.twinx()\n",
    "ax2.plot(keywords_counts.index[:10], cum_percentage[:10], color='C1', marker='D', ms=7)\n",
    "\n",
    "ax1.set_title('Pareto Chart for Top 50 Keywords')\n",
    "ax1.set_xlabel('Keywords')\n",
    "ax1.set_ylabel('Frequency', color='C0')\n",
    "ax2.set_ylabel('Cumulative Percentage', color='C1')\n",
    "\n",
    "plt.show()"
   ]
  },
  {
   "cell_type": "code",
   "execution_count": 24,
   "metadata": {},
   "outputs": [
    {
     "data": {
      "text/html": [
       "<div>\n",
       "<style scoped>\n",
       "    .dataframe tbody tr th:only-of-type {\n",
       "        vertical-align: middle;\n",
       "    }\n",
       "\n",
       "    .dataframe tbody tr th {\n",
       "        vertical-align: top;\n",
       "    }\n",
       "\n",
       "    .dataframe thead th {\n",
       "        text-align: right;\n",
       "    }\n",
       "</style>\n",
       "<table border=\"1\" class=\"dataframe\">\n",
       "  <thead>\n",
       "    <tr style=\"text-align: right;\">\n",
       "      <th></th>\n",
       "      <th>Name of movie</th>\n",
       "      <th>Year of release</th>\n",
       "    </tr>\n",
       "  </thead>\n",
       "  <tbody>\n",
       "    <tr>\n",
       "      <th>370</th>\n",
       "      <td>300: Rise of an Empire</td>\n",
       "      <td>2014</td>\n",
       "    </tr>\n",
       "    <tr>\n",
       "      <th>651</th>\n",
       "      <td>300</td>\n",
       "      <td>2006</td>\n",
       "    </tr>\n",
       "  </tbody>\n",
       "</table>\n",
       "</div>"
      ],
      "text/plain": [
       "              Name of movie  Year of release\n",
       "370  300: Rise of an Empire             2014\n",
       "651                     300             2006"
      ]
     },
     "execution_count": 24,
     "metadata": {},
     "output_type": "execute_result"
    }
   ],
   "source": [
    "#Search theo Name of movie\n",
    "def search_movies(keyword):\n",
    "    keyword = keyword.lower()\n",
    "    results = movie[movie['Name of movie'].str.lower().str.contains(keyword)]\n",
    "    return results[['Name of movie','Year of release']]\n",
    "\n",
    "\n",
    "search_movies(\"300\")\n"
   ]
  },
  {
   "cell_type": "markdown",
   "metadata": {},
   "source": [
    "# Model"
   ]
  },
  {
   "cell_type": "code",
   "execution_count": 18,
   "metadata": {},
   "outputs": [
    {
     "name": "stderr",
     "output_type": "stream",
     "text": [
      "[nltk_data] Downloading package punkt to\n",
      "[nltk_data]     C:\\Users\\ADMIN\\AppData\\Roaming\\nltk_data...\n",
      "[nltk_data]   Package punkt is already up-to-date!\n",
      "[nltk_data] Downloading package stopwords to\n",
      "[nltk_data]     C:\\Users\\ADMIN\\AppData\\Roaming\\nltk_data...\n",
      "[nltk_data]   Package stopwords is already up-to-date!\n",
      "C:\\Users\\ADMIN\\AppData\\Local\\Packages\\PythonSoftwareFoundation.Python.3.12_qbz5n2kfra8p0\\LocalCache\\local-packages\\Python312\\site-packages\\fuzzywuzzy\\fuzz.py:11: UserWarning: Using slow pure-python SequenceMatcher. Install python-Levenshtein to remove this warning\n",
      "  warnings.warn('Using slow pure-python SequenceMatcher. Install python-Levenshtein to remove this warning')\n"
     ]
    }
   ],
   "source": [
    "import nltk\n",
    "nltk.download('punkt')\n",
    "nltk.download('stopwords')\n",
    "import pandas as pd\n",
    "from sklearn.feature_extraction.text import TfidfVectorizer\n",
    "from sklearn.neighbors import NearestNeighbors\n",
    "from sklearn.metrics.pairwise import cosine_similarity\n",
    "import plotly.graph_objects as go\n",
    "import matplotlib.pyplot as plt\n",
    "import re\n",
    "import nltk\n",
    "from fuzzywuzzy import fuzz\n",
    "from nltk.tokenize import word_tokenize\n",
    "from nltk.corpus import stopwords"
   ]
  },
  {
   "cell_type": "markdown",
   "metadata": {},
   "source": [
    "# Cosine similarity\n"
   ]
  },
  {
   "cell_type": "code",
   "execution_count": 27,
   "metadata": {},
   "outputs": [
    {
     "data": {
      "application/vnd.plotly.v1+json": {
       "config": {
        "plotlyServerURL": "https://plot.ly"
       },
       "data": [
        {
         "marker": {
          "color": "#db0000"
         },
         "orientation": "h",
         "text": [
          "Transformers: Age of Extinction",
          "Transformers: Rise of the Beasts",
          "Transformers: Revenge of the Fallen",
          "Transformers",
          "I, Robot",
          "Transformers: The Last Knight",
          "Real Steel",
          "Transformers: Dark of the Moon",
          "Moon Man",
          "Sing 2"
         ],
         "textfont": {
          "color": "#000000"
         },
         "textposition": "inside",
         "type": "bar",
         "x": [
          0.5697753387468188,
          0.533146603466276,
          0.47521533929427684,
          0.4394608686709516,
          0.3567716893404696,
          0.3528515554434564,
          0.3486049844431395,
          0.34784932344208175,
          0.2665184494809538,
          0.20534432206528616
         ],
         "y": [
          1,
          2,
          3,
          4,
          5,
          6,
          7,
          8,
          9,
          10
         ]
        }
       ],
       "layout": {
        "template": {
         "data": {
          "bar": [
           {
            "error_x": {
             "color": "#2a3f5f"
            },
            "error_y": {
             "color": "#2a3f5f"
            },
            "marker": {
             "line": {
              "color": "#E5ECF6",
              "width": 0.5
             },
             "pattern": {
              "fillmode": "overlay",
              "size": 10,
              "solidity": 0.2
             }
            },
            "type": "bar"
           }
          ],
          "barpolar": [
           {
            "marker": {
             "line": {
              "color": "#E5ECF6",
              "width": 0.5
             },
             "pattern": {
              "fillmode": "overlay",
              "size": 10,
              "solidity": 0.2
             }
            },
            "type": "barpolar"
           }
          ],
          "carpet": [
           {
            "aaxis": {
             "endlinecolor": "#2a3f5f",
             "gridcolor": "white",
             "linecolor": "white",
             "minorgridcolor": "white",
             "startlinecolor": "#2a3f5f"
            },
            "baxis": {
             "endlinecolor": "#2a3f5f",
             "gridcolor": "white",
             "linecolor": "white",
             "minorgridcolor": "white",
             "startlinecolor": "#2a3f5f"
            },
            "type": "carpet"
           }
          ],
          "choropleth": [
           {
            "colorbar": {
             "outlinewidth": 0,
             "ticks": ""
            },
            "type": "choropleth"
           }
          ],
          "contour": [
           {
            "colorbar": {
             "outlinewidth": 0,
             "ticks": ""
            },
            "colorscale": [
             [
              0,
              "#0d0887"
             ],
             [
              0.1111111111111111,
              "#46039f"
             ],
             [
              0.2222222222222222,
              "#7201a8"
             ],
             [
              0.3333333333333333,
              "#9c179e"
             ],
             [
              0.4444444444444444,
              "#bd3786"
             ],
             [
              0.5555555555555556,
              "#d8576b"
             ],
             [
              0.6666666666666666,
              "#ed7953"
             ],
             [
              0.7777777777777778,
              "#fb9f3a"
             ],
             [
              0.8888888888888888,
              "#fdca26"
             ],
             [
              1,
              "#f0f921"
             ]
            ],
            "type": "contour"
           }
          ],
          "contourcarpet": [
           {
            "colorbar": {
             "outlinewidth": 0,
             "ticks": ""
            },
            "type": "contourcarpet"
           }
          ],
          "heatmap": [
           {
            "colorbar": {
             "outlinewidth": 0,
             "ticks": ""
            },
            "colorscale": [
             [
              0,
              "#0d0887"
             ],
             [
              0.1111111111111111,
              "#46039f"
             ],
             [
              0.2222222222222222,
              "#7201a8"
             ],
             [
              0.3333333333333333,
              "#9c179e"
             ],
             [
              0.4444444444444444,
              "#bd3786"
             ],
             [
              0.5555555555555556,
              "#d8576b"
             ],
             [
              0.6666666666666666,
              "#ed7953"
             ],
             [
              0.7777777777777778,
              "#fb9f3a"
             ],
             [
              0.8888888888888888,
              "#fdca26"
             ],
             [
              1,
              "#f0f921"
             ]
            ],
            "type": "heatmap"
           }
          ],
          "heatmapgl": [
           {
            "colorbar": {
             "outlinewidth": 0,
             "ticks": ""
            },
            "colorscale": [
             [
              0,
              "#0d0887"
             ],
             [
              0.1111111111111111,
              "#46039f"
             ],
             [
              0.2222222222222222,
              "#7201a8"
             ],
             [
              0.3333333333333333,
              "#9c179e"
             ],
             [
              0.4444444444444444,
              "#bd3786"
             ],
             [
              0.5555555555555556,
              "#d8576b"
             ],
             [
              0.6666666666666666,
              "#ed7953"
             ],
             [
              0.7777777777777778,
              "#fb9f3a"
             ],
             [
              0.8888888888888888,
              "#fdca26"
             ],
             [
              1,
              "#f0f921"
             ]
            ],
            "type": "heatmapgl"
           }
          ],
          "histogram": [
           {
            "marker": {
             "pattern": {
              "fillmode": "overlay",
              "size": 10,
              "solidity": 0.2
             }
            },
            "type": "histogram"
           }
          ],
          "histogram2d": [
           {
            "colorbar": {
             "outlinewidth": 0,
             "ticks": ""
            },
            "colorscale": [
             [
              0,
              "#0d0887"
             ],
             [
              0.1111111111111111,
              "#46039f"
             ],
             [
              0.2222222222222222,
              "#7201a8"
             ],
             [
              0.3333333333333333,
              "#9c179e"
             ],
             [
              0.4444444444444444,
              "#bd3786"
             ],
             [
              0.5555555555555556,
              "#d8576b"
             ],
             [
              0.6666666666666666,
              "#ed7953"
             ],
             [
              0.7777777777777778,
              "#fb9f3a"
             ],
             [
              0.8888888888888888,
              "#fdca26"
             ],
             [
              1,
              "#f0f921"
             ]
            ],
            "type": "histogram2d"
           }
          ],
          "histogram2dcontour": [
           {
            "colorbar": {
             "outlinewidth": 0,
             "ticks": ""
            },
            "colorscale": [
             [
              0,
              "#0d0887"
             ],
             [
              0.1111111111111111,
              "#46039f"
             ],
             [
              0.2222222222222222,
              "#7201a8"
             ],
             [
              0.3333333333333333,
              "#9c179e"
             ],
             [
              0.4444444444444444,
              "#bd3786"
             ],
             [
              0.5555555555555556,
              "#d8576b"
             ],
             [
              0.6666666666666666,
              "#ed7953"
             ],
             [
              0.7777777777777778,
              "#fb9f3a"
             ],
             [
              0.8888888888888888,
              "#fdca26"
             ],
             [
              1,
              "#f0f921"
             ]
            ],
            "type": "histogram2dcontour"
           }
          ],
          "mesh3d": [
           {
            "colorbar": {
             "outlinewidth": 0,
             "ticks": ""
            },
            "type": "mesh3d"
           }
          ],
          "parcoords": [
           {
            "line": {
             "colorbar": {
              "outlinewidth": 0,
              "ticks": ""
             }
            },
            "type": "parcoords"
           }
          ],
          "pie": [
           {
            "automargin": true,
            "type": "pie"
           }
          ],
          "scatter": [
           {
            "fillpattern": {
             "fillmode": "overlay",
             "size": 10,
             "solidity": 0.2
            },
            "type": "scatter"
           }
          ],
          "scatter3d": [
           {
            "line": {
             "colorbar": {
              "outlinewidth": 0,
              "ticks": ""
             }
            },
            "marker": {
             "colorbar": {
              "outlinewidth": 0,
              "ticks": ""
             }
            },
            "type": "scatter3d"
           }
          ],
          "scattercarpet": [
           {
            "marker": {
             "colorbar": {
              "outlinewidth": 0,
              "ticks": ""
             }
            },
            "type": "scattercarpet"
           }
          ],
          "scattergeo": [
           {
            "marker": {
             "colorbar": {
              "outlinewidth": 0,
              "ticks": ""
             }
            },
            "type": "scattergeo"
           }
          ],
          "scattergl": [
           {
            "marker": {
             "colorbar": {
              "outlinewidth": 0,
              "ticks": ""
             }
            },
            "type": "scattergl"
           }
          ],
          "scattermapbox": [
           {
            "marker": {
             "colorbar": {
              "outlinewidth": 0,
              "ticks": ""
             }
            },
            "type": "scattermapbox"
           }
          ],
          "scatterpolar": [
           {
            "marker": {
             "colorbar": {
              "outlinewidth": 0,
              "ticks": ""
             }
            },
            "type": "scatterpolar"
           }
          ],
          "scatterpolargl": [
           {
            "marker": {
             "colorbar": {
              "outlinewidth": 0,
              "ticks": ""
             }
            },
            "type": "scatterpolargl"
           }
          ],
          "scatterternary": [
           {
            "marker": {
             "colorbar": {
              "outlinewidth": 0,
              "ticks": ""
             }
            },
            "type": "scatterternary"
           }
          ],
          "surface": [
           {
            "colorbar": {
             "outlinewidth": 0,
             "ticks": ""
            },
            "colorscale": [
             [
              0,
              "#0d0887"
             ],
             [
              0.1111111111111111,
              "#46039f"
             ],
             [
              0.2222222222222222,
              "#7201a8"
             ],
             [
              0.3333333333333333,
              "#9c179e"
             ],
             [
              0.4444444444444444,
              "#bd3786"
             ],
             [
              0.5555555555555556,
              "#d8576b"
             ],
             [
              0.6666666666666666,
              "#ed7953"
             ],
             [
              0.7777777777777778,
              "#fb9f3a"
             ],
             [
              0.8888888888888888,
              "#fdca26"
             ],
             [
              1,
              "#f0f921"
             ]
            ],
            "type": "surface"
           }
          ],
          "table": [
           {
            "cells": {
             "fill": {
              "color": "#EBF0F8"
             },
             "line": {
              "color": "white"
             }
            },
            "header": {
             "fill": {
              "color": "#C8D4E3"
             },
             "line": {
              "color": "white"
             }
            },
            "type": "table"
           }
          ]
         },
         "layout": {
          "annotationdefaults": {
           "arrowcolor": "#2a3f5f",
           "arrowhead": 0,
           "arrowwidth": 1
          },
          "autotypenumbers": "strict",
          "coloraxis": {
           "colorbar": {
            "outlinewidth": 0,
            "ticks": ""
           }
          },
          "colorscale": {
           "diverging": [
            [
             0,
             "#8e0152"
            ],
            [
             0.1,
             "#c51b7d"
            ],
            [
             0.2,
             "#de77ae"
            ],
            [
             0.3,
             "#f1b6da"
            ],
            [
             0.4,
             "#fde0ef"
            ],
            [
             0.5,
             "#f7f7f7"
            ],
            [
             0.6,
             "#e6f5d0"
            ],
            [
             0.7,
             "#b8e186"
            ],
            [
             0.8,
             "#7fbc41"
            ],
            [
             0.9,
             "#4d9221"
            ],
            [
             1,
             "#276419"
            ]
           ],
           "sequential": [
            [
             0,
             "#0d0887"
            ],
            [
             0.1111111111111111,
             "#46039f"
            ],
            [
             0.2222222222222222,
             "#7201a8"
            ],
            [
             0.3333333333333333,
             "#9c179e"
            ],
            [
             0.4444444444444444,
             "#bd3786"
            ],
            [
             0.5555555555555556,
             "#d8576b"
            ],
            [
             0.6666666666666666,
             "#ed7953"
            ],
            [
             0.7777777777777778,
             "#fb9f3a"
            ],
            [
             0.8888888888888888,
             "#fdca26"
            ],
            [
             1,
             "#f0f921"
            ]
           ],
           "sequentialminus": [
            [
             0,
             "#0d0887"
            ],
            [
             0.1111111111111111,
             "#46039f"
            ],
            [
             0.2222222222222222,
             "#7201a8"
            ],
            [
             0.3333333333333333,
             "#9c179e"
            ],
            [
             0.4444444444444444,
             "#bd3786"
            ],
            [
             0.5555555555555556,
             "#d8576b"
            ],
            [
             0.6666666666666666,
             "#ed7953"
            ],
            [
             0.7777777777777778,
             "#fb9f3a"
            ],
            [
             0.8888888888888888,
             "#fdca26"
            ],
            [
             1,
             "#f0f921"
            ]
           ]
          },
          "colorway": [
           "#636efa",
           "#EF553B",
           "#00cc96",
           "#ab63fa",
           "#FFA15A",
           "#19d3f3",
           "#FF6692",
           "#B6E880",
           "#FF97FF",
           "#FECB52"
          ],
          "font": {
           "color": "#2a3f5f"
          },
          "geo": {
           "bgcolor": "white",
           "lakecolor": "white",
           "landcolor": "#E5ECF6",
           "showlakes": true,
           "showland": true,
           "subunitcolor": "white"
          },
          "hoverlabel": {
           "align": "left"
          },
          "hovermode": "closest",
          "mapbox": {
           "style": "light"
          },
          "paper_bgcolor": "white",
          "plot_bgcolor": "#E5ECF6",
          "polar": {
           "angularaxis": {
            "gridcolor": "white",
            "linecolor": "white",
            "ticks": ""
           },
           "bgcolor": "#E5ECF6",
           "radialaxis": {
            "gridcolor": "white",
            "linecolor": "white",
            "ticks": ""
           }
          },
          "scene": {
           "xaxis": {
            "backgroundcolor": "#E5ECF6",
            "gridcolor": "white",
            "gridwidth": 2,
            "linecolor": "white",
            "showbackground": true,
            "ticks": "",
            "zerolinecolor": "white"
           },
           "yaxis": {
            "backgroundcolor": "#E5ECF6",
            "gridcolor": "white",
            "gridwidth": 2,
            "linecolor": "white",
            "showbackground": true,
            "ticks": "",
            "zerolinecolor": "white"
           },
           "zaxis": {
            "backgroundcolor": "#E5ECF6",
            "gridcolor": "white",
            "gridwidth": 2,
            "linecolor": "white",
            "showbackground": true,
            "ticks": "",
            "zerolinecolor": "white"
           }
          },
          "shapedefaults": {
           "line": {
            "color": "#2a3f5f"
           }
          },
          "ternary": {
           "aaxis": {
            "gridcolor": "white",
            "linecolor": "white",
            "ticks": ""
           },
           "baxis": {
            "gridcolor": "white",
            "linecolor": "white",
            "ticks": ""
           },
           "bgcolor": "#E5ECF6",
           "caxis": {
            "gridcolor": "white",
            "linecolor": "white",
            "ticks": ""
           }
          },
          "title": {
           "x": 0.05
          },
          "xaxis": {
           "automargin": true,
           "gridcolor": "white",
           "linecolor": "white",
           "ticks": "",
           "title": {
            "standoff": 15
           },
           "zerolinecolor": "white",
           "zerolinewidth": 2
          },
          "yaxis": {
           "automargin": true,
           "gridcolor": "white",
           "linecolor": "white",
           "ticks": "",
           "title": {
            "standoff": 15
           },
           "zerolinecolor": "white",
           "zerolinewidth": 2
          }
         }
        },
        "title": {
         "text": "Ranking Of Top 10 Most Similar Movie Descriptions For \"robot transformers sci-fi\""
        },
        "xaxis": {
         "range": [
          0,
          1
         ],
         "title": {
          "text": "Cosine TFIDF Description Similarity"
         }
        },
        "yaxis": {
         "title": {
          "text": "Movie"
         }
        }
       }
      }
     },
     "metadata": {},
     "output_type": "display_data"
    }
   ],
   "source": [
    "\n",
    "movie = pd.read_csv('E:\\\\TH\\\\DS108-Tien xu ly\\\\Project\\\\movieoffical-converted.csv')\n",
    "def compute_similarity(m):\n",
    "    movie = m.fillna('')\n",
    "    movie['combined'] = movie['Name of movie'] + ' ' + movie['keywords'] + ' ' + movie['Genre'] + ' ' + movie['Des']\n",
    "    vectorizer = TfidfVectorizer(stop_words='english')\n",
    "    tfidf_matrix = vectorizer.fit_transform(movie['combined'])\n",
    "    similarity_matrix = cosine_similarity(tfidf_matrix)\n",
    "    return similarity_matrix, vectorizer, tfidf_matrix\n",
    "\n",
    "def recommend_and_search_movies(query, similarity_matrix, vectorizer, tfidf_matrix, top_n=10):\n",
    "    keyword = query.lower()\n",
    "    search_results = movie[movie['Name of movie'].str.lower().str.contains(keyword)][['Name of movie','Year of release', 'Genre']]\n",
    "    search_results['Similarity'] = search_results['Name of movie'].apply(lambda x: fuzz.ratio(keyword, x.lower()))\n",
    "    search_results = search_results.sort_values(by='Similarity', ascending=False)\n",
    "    exact_match = movie[movie['Name of movie'].str.lower() == keyword]\n",
    "    if not exact_match.empty:\n",
    "        query = exact_match.iloc[0]['Des'] + ' ' + exact_match.iloc[0]['Genre'] + ' ' + exact_match.iloc[0]['keywords']\n",
    "    query_vector = vectorizer.transform([query])\n",
    "\n",
    "    similarity_scores = cosine_similarity(tfidf_matrix, query_vector)\n",
    "    similarity_scores = similarity_scores.flatten()\n",
    "    top_indices = similarity_scores.argsort()[-top_n:][::-1]\n",
    "    recommended_movies = movie.iloc[top_indices][['Name of movie', 'Year of release','Genre']]\n",
    "    combined_results = pd.concat([search_results, recommended_movies])\n",
    "    combined_results.drop_duplicates(subset=['Name of movie'], keep='first', inplace=True)\n",
    "    combined_results = combined_results.head(top_n)\n",
    "    exact_match = combined_results[combined_results['Name of movie'].str.lower() == keyword]    \n",
    "    other_results = combined_results[combined_results['Name of movie'].str.lower() != keyword]\n",
    "    combined_results = pd.concat([exact_match, other_results])\n",
    "    combined_results.drop_duplicates(subset=['Name of movie'], keep='first', inplace=True)\n",
    "    combined_results = combined_results.head(top_n)\n",
    "    \n",
    "    return combined_results, similarity_scores[top_indices]\n",
    "\n",
    "similarity_matrix, vectorizer, tfidf_matrix = compute_similarity(movie)\n",
    "\n",
    "#INPUT\n",
    "query = input(\"Nhập tên phim bạn muốn tìm kiếm: \")\n",
    "\n",
    "\n",
    "combined_results, top_scores = recommend_and_search_movies(query, similarity_matrix, vectorizer, tfidf_matrix, top_n=10)\n",
    "trace = go.Bar(x = top_scores,\n",
    "               text = combined_results['Name of movie'],\n",
    "               textposition = 'inside',\n",
    "               textfont = dict(color = '#000000'),\n",
    "               orientation = 'h',\n",
    "               y = list(range(1, len(combined_results)+1)),\n",
    "               marker = dict(color = '#db0000'))\n",
    "\n",
    "layout = dict(title = 'Ranking Of Top {} Most Similar Movie Descriptions For \"{}\"'.format(len(combined_results), query),\n",
    "xaxis = dict(title = 'Cosine TFIDF Description Similarity',\n",
    "                           range = (0, 1)),\n",
    "yaxis = dict(title = 'Movie'))\n",
    "fig = go.Figure(data=[trace], layout=layout)\n",
    "fig.show()\n",
    "\n",
    "\n"
   ]
  },
  {
   "cell_type": "code",
   "execution_count": 22,
   "metadata": {},
   "outputs": [
    {
     "data": {
      "text/html": [
       "<div>\n",
       "<style scoped>\n",
       "    .dataframe tbody tr th:only-of-type {\n",
       "        vertical-align: middle;\n",
       "    }\n",
       "\n",
       "    .dataframe tbody tr th {\n",
       "        vertical-align: top;\n",
       "    }\n",
       "\n",
       "    .dataframe thead th {\n",
       "        text-align: right;\n",
       "    }\n",
       "</style>\n",
       "<table border=\"1\" class=\"dataframe\">\n",
       "  <thead>\n",
       "    <tr style=\"text-align: right;\">\n",
       "      <th></th>\n",
       "      <th>Name of movie</th>\n",
       "      <th>Year of release</th>\n",
       "      <th>Genre</th>\n",
       "      <th>Similarity Score</th>\n",
       "    </tr>\n",
       "  </thead>\n",
       "  <tbody>\n",
       "    <tr>\n",
       "      <th>550</th>\n",
       "      <td>Fast &amp; Furious</td>\n",
       "      <td>2009</td>\n",
       "      <td>Action, Crime, Thriller</td>\n",
       "      <td>0.487248</td>\n",
       "    </tr>\n",
       "    <tr>\n",
       "      <th>722</th>\n",
       "      <td>2 Fast 2 Furious</td>\n",
       "      <td>2003</td>\n",
       "      <td>Action, Crime, Thriller</td>\n",
       "      <td>0.446577</td>\n",
       "    </tr>\n",
       "    <tr>\n",
       "      <th>782</th>\n",
       "      <td>The Fast and the Furious</td>\n",
       "      <td>2001</td>\n",
       "      <td>Action, Crime, Thriller</td>\n",
       "      <td>0.427835</td>\n",
       "    </tr>\n",
       "    <tr>\n",
       "      <th>408</th>\n",
       "      <td>Fast &amp; Furious 6</td>\n",
       "      <td>2013</td>\n",
       "      <td>Action, Adventure, Crime</td>\n",
       "      <td>0.406033</td>\n",
       "    </tr>\n",
       "    <tr>\n",
       "      <th>318</th>\n",
       "      <td>Furious 7</td>\n",
       "      <td>2015</td>\n",
       "      <td>Action, Crime, Thriller</td>\n",
       "      <td>0.297529</td>\n",
       "    </tr>\n",
       "    <tr>\n",
       "      <th>121</th>\n",
       "      <td>Fast &amp; Furious Presents: Hobbs &amp; Shaw</td>\n",
       "      <td>2019</td>\n",
       "      <td>Action, Adventure, Thriller</td>\n",
       "      <td>0.289654</td>\n",
       "    </tr>\n",
       "    <tr>\n",
       "      <th>3</th>\n",
       "      <td>Fast X</td>\n",
       "      <td>2023</td>\n",
       "      <td>Action, Adventure, Crime</td>\n",
       "      <td>0.269917</td>\n",
       "    </tr>\n",
       "    <tr>\n",
       "      <th>480</th>\n",
       "      <td>Fast Five</td>\n",
       "      <td>2011</td>\n",
       "      <td>Action, Crime, Thriller</td>\n",
       "      <td>0.231002</td>\n",
       "    </tr>\n",
       "    <tr>\n",
       "      <th>217</th>\n",
       "      <td>The Fate of the Furious</td>\n",
       "      <td>2017</td>\n",
       "      <td>Action, Crime, Thriller</td>\n",
       "      <td>0.194213</td>\n",
       "    </tr>\n",
       "    <tr>\n",
       "      <th>537</th>\n",
       "      <td>The Final Destination</td>\n",
       "      <td>2009</td>\n",
       "      <td>Horror, Thriller</td>\n",
       "      <td>0.134205</td>\n",
       "    </tr>\n",
       "  </tbody>\n",
       "</table>\n",
       "</div>"
      ],
      "text/plain": [
       "                             Name of movie  Year of release  \\\n",
       "550                         Fast & Furious             2009   \n",
       "722                       2 Fast 2 Furious             2003   \n",
       "782               The Fast and the Furious             2001   \n",
       "408                       Fast & Furious 6             2013   \n",
       "318                              Furious 7             2015   \n",
       "121  Fast & Furious Presents: Hobbs & Shaw             2019   \n",
       "3                                   Fast X             2023   \n",
       "480                              Fast Five             2011   \n",
       "217                The Fate of the Furious             2017   \n",
       "537                  The Final Destination             2009   \n",
       "\n",
       "                           Genre  Similarity Score  \n",
       "550      Action, Crime, Thriller          0.487248  \n",
       "722      Action, Crime, Thriller          0.446577  \n",
       "782      Action, Crime, Thriller          0.427835  \n",
       "408     Action, Adventure, Crime          0.406033  \n",
       "318      Action, Crime, Thriller          0.297529  \n",
       "121  Action, Adventure, Thriller          0.289654  \n",
       "3       Action, Adventure, Crime          0.269917  \n",
       "480      Action, Crime, Thriller          0.231002  \n",
       "217      Action, Crime, Thriller          0.194213  \n",
       "537             Horror, Thriller          0.134205  "
      ]
     },
     "execution_count": 22,
     "metadata": {},
     "output_type": "execute_result"
    }
   ],
   "source": [
    "#Hiển thị table\n",
    "combined_results, _ = recommend_and_search_movies(query, similarity_matrix, vectorizer, tfidf_matrix, top_n=10)\n",
    "combined_results['Similarity Score'] = top_scores\n",
    "combined_results[['Name of movie', 'Year of release','Genre','Similarity Score']]"
   ]
  },
  {
   "cell_type": "markdown",
   "metadata": {},
   "source": [
    "# KNN\n"
   ]
  },
  {
   "cell_type": "code",
   "execution_count": 25,
   "metadata": {},
   "outputs": [
    {
     "data": {
      "application/vnd.plotly.v1+json": {
       "config": {
        "plotlyServerURL": "https://plot.ly"
       },
       "data": [
        {
         "marker": {
          "color": "#db0000"
         },
         "orientation": "h",
         "text": [
          "Transformers: Age of Extinction",
          "Transformers: Rise of the Beasts",
          "Transformers: Revenge of the Fallen",
          "Transformers",
          "I, Robot",
          "Transformers: The Last Knight",
          "Real Steel",
          "Transformers: Dark of the Moon",
          "Moon Man",
          "Sing 2"
         ],
         "textfont": {
          "color": "#000000"
         },
         "textposition": "inside",
         "type": "bar",
         "x": [
          0.9276040763743776,
          0.9662850475234769,
          1.0244849054092726,
          1.0588098330947333,
          1.1342207110254428,
          1.1376716965421472,
          1.1413982789165755,
          1.1420601355076871,
          1.211182521768743,
          1.2606789265587917
         ],
         "y": [
          1,
          2,
          3,
          4,
          5,
          6,
          7,
          8,
          9,
          10
         ]
        }
       ],
       "layout": {
        "template": {
         "data": {
          "bar": [
           {
            "error_x": {
             "color": "#2a3f5f"
            },
            "error_y": {
             "color": "#2a3f5f"
            },
            "marker": {
             "line": {
              "color": "#E5ECF6",
              "width": 0.5
             },
             "pattern": {
              "fillmode": "overlay",
              "size": 10,
              "solidity": 0.2
             }
            },
            "type": "bar"
           }
          ],
          "barpolar": [
           {
            "marker": {
             "line": {
              "color": "#E5ECF6",
              "width": 0.5
             },
             "pattern": {
              "fillmode": "overlay",
              "size": 10,
              "solidity": 0.2
             }
            },
            "type": "barpolar"
           }
          ],
          "carpet": [
           {
            "aaxis": {
             "endlinecolor": "#2a3f5f",
             "gridcolor": "white",
             "linecolor": "white",
             "minorgridcolor": "white",
             "startlinecolor": "#2a3f5f"
            },
            "baxis": {
             "endlinecolor": "#2a3f5f",
             "gridcolor": "white",
             "linecolor": "white",
             "minorgridcolor": "white",
             "startlinecolor": "#2a3f5f"
            },
            "type": "carpet"
           }
          ],
          "choropleth": [
           {
            "colorbar": {
             "outlinewidth": 0,
             "ticks": ""
            },
            "type": "choropleth"
           }
          ],
          "contour": [
           {
            "colorbar": {
             "outlinewidth": 0,
             "ticks": ""
            },
            "colorscale": [
             [
              0,
              "#0d0887"
             ],
             [
              0.1111111111111111,
              "#46039f"
             ],
             [
              0.2222222222222222,
              "#7201a8"
             ],
             [
              0.3333333333333333,
              "#9c179e"
             ],
             [
              0.4444444444444444,
              "#bd3786"
             ],
             [
              0.5555555555555556,
              "#d8576b"
             ],
             [
              0.6666666666666666,
              "#ed7953"
             ],
             [
              0.7777777777777778,
              "#fb9f3a"
             ],
             [
              0.8888888888888888,
              "#fdca26"
             ],
             [
              1,
              "#f0f921"
             ]
            ],
            "type": "contour"
           }
          ],
          "contourcarpet": [
           {
            "colorbar": {
             "outlinewidth": 0,
             "ticks": ""
            },
            "type": "contourcarpet"
           }
          ],
          "heatmap": [
           {
            "colorbar": {
             "outlinewidth": 0,
             "ticks": ""
            },
            "colorscale": [
             [
              0,
              "#0d0887"
             ],
             [
              0.1111111111111111,
              "#46039f"
             ],
             [
              0.2222222222222222,
              "#7201a8"
             ],
             [
              0.3333333333333333,
              "#9c179e"
             ],
             [
              0.4444444444444444,
              "#bd3786"
             ],
             [
              0.5555555555555556,
              "#d8576b"
             ],
             [
              0.6666666666666666,
              "#ed7953"
             ],
             [
              0.7777777777777778,
              "#fb9f3a"
             ],
             [
              0.8888888888888888,
              "#fdca26"
             ],
             [
              1,
              "#f0f921"
             ]
            ],
            "type": "heatmap"
           }
          ],
          "heatmapgl": [
           {
            "colorbar": {
             "outlinewidth": 0,
             "ticks": ""
            },
            "colorscale": [
             [
              0,
              "#0d0887"
             ],
             [
              0.1111111111111111,
              "#46039f"
             ],
             [
              0.2222222222222222,
              "#7201a8"
             ],
             [
              0.3333333333333333,
              "#9c179e"
             ],
             [
              0.4444444444444444,
              "#bd3786"
             ],
             [
              0.5555555555555556,
              "#d8576b"
             ],
             [
              0.6666666666666666,
              "#ed7953"
             ],
             [
              0.7777777777777778,
              "#fb9f3a"
             ],
             [
              0.8888888888888888,
              "#fdca26"
             ],
             [
              1,
              "#f0f921"
             ]
            ],
            "type": "heatmapgl"
           }
          ],
          "histogram": [
           {
            "marker": {
             "pattern": {
              "fillmode": "overlay",
              "size": 10,
              "solidity": 0.2
             }
            },
            "type": "histogram"
           }
          ],
          "histogram2d": [
           {
            "colorbar": {
             "outlinewidth": 0,
             "ticks": ""
            },
            "colorscale": [
             [
              0,
              "#0d0887"
             ],
             [
              0.1111111111111111,
              "#46039f"
             ],
             [
              0.2222222222222222,
              "#7201a8"
             ],
             [
              0.3333333333333333,
              "#9c179e"
             ],
             [
              0.4444444444444444,
              "#bd3786"
             ],
             [
              0.5555555555555556,
              "#d8576b"
             ],
             [
              0.6666666666666666,
              "#ed7953"
             ],
             [
              0.7777777777777778,
              "#fb9f3a"
             ],
             [
              0.8888888888888888,
              "#fdca26"
             ],
             [
              1,
              "#f0f921"
             ]
            ],
            "type": "histogram2d"
           }
          ],
          "histogram2dcontour": [
           {
            "colorbar": {
             "outlinewidth": 0,
             "ticks": ""
            },
            "colorscale": [
             [
              0,
              "#0d0887"
             ],
             [
              0.1111111111111111,
              "#46039f"
             ],
             [
              0.2222222222222222,
              "#7201a8"
             ],
             [
              0.3333333333333333,
              "#9c179e"
             ],
             [
              0.4444444444444444,
              "#bd3786"
             ],
             [
              0.5555555555555556,
              "#d8576b"
             ],
             [
              0.6666666666666666,
              "#ed7953"
             ],
             [
              0.7777777777777778,
              "#fb9f3a"
             ],
             [
              0.8888888888888888,
              "#fdca26"
             ],
             [
              1,
              "#f0f921"
             ]
            ],
            "type": "histogram2dcontour"
           }
          ],
          "mesh3d": [
           {
            "colorbar": {
             "outlinewidth": 0,
             "ticks": ""
            },
            "type": "mesh3d"
           }
          ],
          "parcoords": [
           {
            "line": {
             "colorbar": {
              "outlinewidth": 0,
              "ticks": ""
             }
            },
            "type": "parcoords"
           }
          ],
          "pie": [
           {
            "automargin": true,
            "type": "pie"
           }
          ],
          "scatter": [
           {
            "fillpattern": {
             "fillmode": "overlay",
             "size": 10,
             "solidity": 0.2
            },
            "type": "scatter"
           }
          ],
          "scatter3d": [
           {
            "line": {
             "colorbar": {
              "outlinewidth": 0,
              "ticks": ""
             }
            },
            "marker": {
             "colorbar": {
              "outlinewidth": 0,
              "ticks": ""
             }
            },
            "type": "scatter3d"
           }
          ],
          "scattercarpet": [
           {
            "marker": {
             "colorbar": {
              "outlinewidth": 0,
              "ticks": ""
             }
            },
            "type": "scattercarpet"
           }
          ],
          "scattergeo": [
           {
            "marker": {
             "colorbar": {
              "outlinewidth": 0,
              "ticks": ""
             }
            },
            "type": "scattergeo"
           }
          ],
          "scattergl": [
           {
            "marker": {
             "colorbar": {
              "outlinewidth": 0,
              "ticks": ""
             }
            },
            "type": "scattergl"
           }
          ],
          "scattermapbox": [
           {
            "marker": {
             "colorbar": {
              "outlinewidth": 0,
              "ticks": ""
             }
            },
            "type": "scattermapbox"
           }
          ],
          "scatterpolar": [
           {
            "marker": {
             "colorbar": {
              "outlinewidth": 0,
              "ticks": ""
             }
            },
            "type": "scatterpolar"
           }
          ],
          "scatterpolargl": [
           {
            "marker": {
             "colorbar": {
              "outlinewidth": 0,
              "ticks": ""
             }
            },
            "type": "scatterpolargl"
           }
          ],
          "scatterternary": [
           {
            "marker": {
             "colorbar": {
              "outlinewidth": 0,
              "ticks": ""
             }
            },
            "type": "scatterternary"
           }
          ],
          "surface": [
           {
            "colorbar": {
             "outlinewidth": 0,
             "ticks": ""
            },
            "colorscale": [
             [
              0,
              "#0d0887"
             ],
             [
              0.1111111111111111,
              "#46039f"
             ],
             [
              0.2222222222222222,
              "#7201a8"
             ],
             [
              0.3333333333333333,
              "#9c179e"
             ],
             [
              0.4444444444444444,
              "#bd3786"
             ],
             [
              0.5555555555555556,
              "#d8576b"
             ],
             [
              0.6666666666666666,
              "#ed7953"
             ],
             [
              0.7777777777777778,
              "#fb9f3a"
             ],
             [
              0.8888888888888888,
              "#fdca26"
             ],
             [
              1,
              "#f0f921"
             ]
            ],
            "type": "surface"
           }
          ],
          "table": [
           {
            "cells": {
             "fill": {
              "color": "#EBF0F8"
             },
             "line": {
              "color": "white"
             }
            },
            "header": {
             "fill": {
              "color": "#C8D4E3"
             },
             "line": {
              "color": "white"
             }
            },
            "type": "table"
           }
          ]
         },
         "layout": {
          "annotationdefaults": {
           "arrowcolor": "#2a3f5f",
           "arrowhead": 0,
           "arrowwidth": 1
          },
          "autotypenumbers": "strict",
          "coloraxis": {
           "colorbar": {
            "outlinewidth": 0,
            "ticks": ""
           }
          },
          "colorscale": {
           "diverging": [
            [
             0,
             "#8e0152"
            ],
            [
             0.1,
             "#c51b7d"
            ],
            [
             0.2,
             "#de77ae"
            ],
            [
             0.3,
             "#f1b6da"
            ],
            [
             0.4,
             "#fde0ef"
            ],
            [
             0.5,
             "#f7f7f7"
            ],
            [
             0.6,
             "#e6f5d0"
            ],
            [
             0.7,
             "#b8e186"
            ],
            [
             0.8,
             "#7fbc41"
            ],
            [
             0.9,
             "#4d9221"
            ],
            [
             1,
             "#276419"
            ]
           ],
           "sequential": [
            [
             0,
             "#0d0887"
            ],
            [
             0.1111111111111111,
             "#46039f"
            ],
            [
             0.2222222222222222,
             "#7201a8"
            ],
            [
             0.3333333333333333,
             "#9c179e"
            ],
            [
             0.4444444444444444,
             "#bd3786"
            ],
            [
             0.5555555555555556,
             "#d8576b"
            ],
            [
             0.6666666666666666,
             "#ed7953"
            ],
            [
             0.7777777777777778,
             "#fb9f3a"
            ],
            [
             0.8888888888888888,
             "#fdca26"
            ],
            [
             1,
             "#f0f921"
            ]
           ],
           "sequentialminus": [
            [
             0,
             "#0d0887"
            ],
            [
             0.1111111111111111,
             "#46039f"
            ],
            [
             0.2222222222222222,
             "#7201a8"
            ],
            [
             0.3333333333333333,
             "#9c179e"
            ],
            [
             0.4444444444444444,
             "#bd3786"
            ],
            [
             0.5555555555555556,
             "#d8576b"
            ],
            [
             0.6666666666666666,
             "#ed7953"
            ],
            [
             0.7777777777777778,
             "#fb9f3a"
            ],
            [
             0.8888888888888888,
             "#fdca26"
            ],
            [
             1,
             "#f0f921"
            ]
           ]
          },
          "colorway": [
           "#636efa",
           "#EF553B",
           "#00cc96",
           "#ab63fa",
           "#FFA15A",
           "#19d3f3",
           "#FF6692",
           "#B6E880",
           "#FF97FF",
           "#FECB52"
          ],
          "font": {
           "color": "#2a3f5f"
          },
          "geo": {
           "bgcolor": "white",
           "lakecolor": "white",
           "landcolor": "#E5ECF6",
           "showlakes": true,
           "showland": true,
           "subunitcolor": "white"
          },
          "hoverlabel": {
           "align": "left"
          },
          "hovermode": "closest",
          "mapbox": {
           "style": "light"
          },
          "paper_bgcolor": "white",
          "plot_bgcolor": "#E5ECF6",
          "polar": {
           "angularaxis": {
            "gridcolor": "white",
            "linecolor": "white",
            "ticks": ""
           },
           "bgcolor": "#E5ECF6",
           "radialaxis": {
            "gridcolor": "white",
            "linecolor": "white",
            "ticks": ""
           }
          },
          "scene": {
           "xaxis": {
            "backgroundcolor": "#E5ECF6",
            "gridcolor": "white",
            "gridwidth": 2,
            "linecolor": "white",
            "showbackground": true,
            "ticks": "",
            "zerolinecolor": "white"
           },
           "yaxis": {
            "backgroundcolor": "#E5ECF6",
            "gridcolor": "white",
            "gridwidth": 2,
            "linecolor": "white",
            "showbackground": true,
            "ticks": "",
            "zerolinecolor": "white"
           },
           "zaxis": {
            "backgroundcolor": "#E5ECF6",
            "gridcolor": "white",
            "gridwidth": 2,
            "linecolor": "white",
            "showbackground": true,
            "ticks": "",
            "zerolinecolor": "white"
           }
          },
          "shapedefaults": {
           "line": {
            "color": "#2a3f5f"
           }
          },
          "ternary": {
           "aaxis": {
            "gridcolor": "white",
            "linecolor": "white",
            "ticks": ""
           },
           "baxis": {
            "gridcolor": "white",
            "linecolor": "white",
            "ticks": ""
           },
           "bgcolor": "#E5ECF6",
           "caxis": {
            "gridcolor": "white",
            "linecolor": "white",
            "ticks": ""
           }
          },
          "title": {
           "x": 0.05
          },
          "xaxis": {
           "automargin": true,
           "gridcolor": "white",
           "linecolor": "white",
           "ticks": "",
           "title": {
            "standoff": 15
           },
           "zerolinecolor": "white",
           "zerolinewidth": 2
          },
          "yaxis": {
           "automargin": true,
           "gridcolor": "white",
           "linecolor": "white",
           "ticks": "",
           "title": {
            "standoff": 15
           },
           "zerolinecolor": "white",
           "zerolinewidth": 2
          }
         }
        },
        "title": {
         "text": "Ranking Of Top 10 Most Similar Movie Descriptions For \"robot transformers sci-fi\""
        },
        "xaxis": {
         "range": [
          0,
          3
         ],
         "title": {
          "text": "KNN Distance"
         }
        },
        "yaxis": {
         "title": {
          "text": "Movie"
         }
        }
       }
      }
     },
     "metadata": {},
     "output_type": "display_data"
    }
   ],
   "source": [
    "\n",
    "movie = pd.read_csv('E:\\\\TH\\\\DS108-Tien xu ly\\\\Project\\\\movieoffical-converted.csv')\n",
    "\n",
    "def compute_similarity(m):\n",
    "    movie = m.fillna('')\n",
    "    movie['combined'] = movie['Name of movie'] + ' ' + movie['keywords'] + ' ' + movie['Genre'] + ' ' + movie['Des']\n",
    "    vectorizer = TfidfVectorizer(stop_words='english')\n",
    "    tfidf_matrix = vectorizer.fit_transform(movie['combined'])\n",
    "    model_knn = NearestNeighbors(metric='euclidean', algorithm='brute')  \n",
    "    model_knn.fit(tfidf_matrix)\n",
    "    return model_knn, vectorizer, tfidf_matrix\n",
    "\n",
    "def recommend_and_search_movies(query, model_knn, vectorizer, tfidf_matrix, top_n=10):\n",
    "    keyword = query.lower()\n",
    "    search_results = movie[movie['Name of movie'].str.lower().str.contains(keyword)][['Name of movie','Year of release', 'Genre']]\n",
    "    search_results['Similarity'] = search_results['Name of movie'].apply(lambda x: fuzz.ratio(keyword, x.lower()))\n",
    "    search_results = search_results.sort_values(by='Similarity', ascending=False)\n",
    "    \n",
    "    exact_match = movie[movie['Name of movie'].str.lower() == keyword]\n",
    "    if not exact_match.empty:\n",
    "        query = exact_match.iloc[0]['Des'] + ' ' + exact_match.iloc[0]['Genre'] + ' ' + exact_match.iloc[0]['keywords']\n",
    "    query_vector = vectorizer.transform([query])\n",
    "    distances, indices = model_knn.kneighbors(query_vector, n_neighbors=top_n)\n",
    "    recommended_movies = movie.iloc[indices[0]][['Name of movie', 'Year of release','Genre']]\n",
    "    combined_results = pd.concat([search_results, recommended_movies])\n",
    "    combined_results.drop_duplicates(subset=['Name of movie'], keep='first', inplace=True)\n",
    "    combined_results = combined_results.head(top_n)\n",
    "    exact_match = combined_results[combined_results['Name of movie'].str.lower() == keyword]    \n",
    "    other_results = combined_results[combined_results['Name of movie'].str.lower() != keyword]\n",
    "    combined_results = pd.concat([exact_match, other_results])\n",
    "    combined_results.drop_duplicates(subset=['Name of movie'], keep='first', inplace=True)\n",
    "    combined_results = combined_results.head(top_n)\n",
    "    \n",
    "    return combined_results, distances[0]\n",
    "\n",
    "model_knn, vectorizer, tfidf_matrix = compute_similarity(movie)\n",
    "#INPUT\n",
    "query = input(\"Nhập tên phim bạn muốn tìm kiếm: \")\n",
    "\n",
    "\n",
    "\n",
    "combined_results, top_scores = recommend_and_search_movies(query, model_knn, vectorizer, tfidf_matrix, top_n=10)\n",
    "trace = go.Bar(x = top_scores,\n",
    "               text = combined_results['Name of movie'],\n",
    "               textposition = 'inside',\n",
    "               textfont = dict(color = '#000000'),\n",
    "               orientation = 'h',\n",
    "               y = list(range(1, len(combined_results)+1)),\n",
    "               marker = dict(color = '#db0000'))\n",
    "layout = dict(title = 'Ranking Of Top {} Most Similar Movie Descriptions For \"{}\"'.format(len(combined_results), query),\n",
    "xaxis = dict(title = 'KNN Distance',\n",
    "                           range = (0, 3)),\n",
    "yaxis = dict(title = 'Movie'))\n",
    "fig = go.Figure(data=[trace], layout=layout)\n",
    "fig.show()\n"
   ]
  },
  {
   "cell_type": "code",
   "execution_count": 26,
   "metadata": {},
   "outputs": [
    {
     "data": {
      "text/html": [
       "<div>\n",
       "<style scoped>\n",
       "    .dataframe tbody tr th:only-of-type {\n",
       "        vertical-align: middle;\n",
       "    }\n",
       "\n",
       "    .dataframe tbody tr th {\n",
       "        vertical-align: top;\n",
       "    }\n",
       "\n",
       "    .dataframe thead th {\n",
       "        text-align: right;\n",
       "    }\n",
       "</style>\n",
       "<table border=\"1\" class=\"dataframe\">\n",
       "  <thead>\n",
       "    <tr style=\"text-align: right;\">\n",
       "      <th></th>\n",
       "      <th>Name of movie</th>\n",
       "      <th>Year of release</th>\n",
       "      <th>Genre</th>\n",
       "      <th>Distance</th>\n",
       "    </tr>\n",
       "  </thead>\n",
       "  <tbody>\n",
       "    <tr>\n",
       "      <th>344</th>\n",
       "      <td>Transformers: Age of Extinction</td>\n",
       "      <td>2014</td>\n",
       "      <td>Action, Adventure, Sci-Fi</td>\n",
       "      <td>0.927604</td>\n",
       "    </tr>\n",
       "    <tr>\n",
       "      <th>5</th>\n",
       "      <td>Transformers: Rise of the Beasts</td>\n",
       "      <td>2023</td>\n",
       "      <td>Action, Adventure, Sci-Fi</td>\n",
       "      <td>0.966285</td>\n",
       "    </tr>\n",
       "    <tr>\n",
       "      <th>557</th>\n",
       "      <td>Transformers: Revenge of the Fallen</td>\n",
       "      <td>2009</td>\n",
       "      <td>Action, Adventure, Sci-Fi</td>\n",
       "      <td>1.024485</td>\n",
       "    </tr>\n",
       "    <tr>\n",
       "      <th>609</th>\n",
       "      <td>Transformers</td>\n",
       "      <td>2007</td>\n",
       "      <td>Action, Adventure, Sci-Fi</td>\n",
       "      <td>1.058810</td>\n",
       "    </tr>\n",
       "    <tr>\n",
       "      <th>691</th>\n",
       "      <td>I, Robot</td>\n",
       "      <td>2004</td>\n",
       "      <td>Action, Mystery, Sci-Fi</td>\n",
       "      <td>1.134221</td>\n",
       "    </tr>\n",
       "    <tr>\n",
       "      <th>205</th>\n",
       "      <td>Transformers: The Last Knight</td>\n",
       "      <td>2017</td>\n",
       "      <td>Action, Adventure, Sci-Fi</td>\n",
       "      <td>1.137672</td>\n",
       "    </tr>\n",
       "    <tr>\n",
       "      <th>470</th>\n",
       "      <td>Real Steel</td>\n",
       "      <td>2011</td>\n",
       "      <td>Action, Drama, Sci-Fi</td>\n",
       "      <td>1.141398</td>\n",
       "    </tr>\n",
       "    <tr>\n",
       "      <th>474</th>\n",
       "      <td>Transformers: Dark of the Moon</td>\n",
       "      <td>2011</td>\n",
       "      <td>Action, Adventure, Sci-Fi</td>\n",
       "      <td>1.142060</td>\n",
       "    </tr>\n",
       "    <tr>\n",
       "      <th>32</th>\n",
       "      <td>Moon Man</td>\n",
       "      <td>2022</td>\n",
       "      <td>Comedy, Sci-Fi</td>\n",
       "      <td>1.211183</td>\n",
       "    </tr>\n",
       "    <tr>\n",
       "      <th>54</th>\n",
       "      <td>Sing 2</td>\n",
       "      <td>2021</td>\n",
       "      <td>Animation, Adventure, Comedy</td>\n",
       "      <td>1.260679</td>\n",
       "    </tr>\n",
       "  </tbody>\n",
       "</table>\n",
       "</div>"
      ],
      "text/plain": [
       "                           Name of movie  Year of release  \\\n",
       "344      Transformers: Age of Extinction             2014   \n",
       "5       Transformers: Rise of the Beasts             2023   \n",
       "557  Transformers: Revenge of the Fallen             2009   \n",
       "609                         Transformers             2007   \n",
       "691                             I, Robot             2004   \n",
       "205        Transformers: The Last Knight             2017   \n",
       "470                           Real Steel             2011   \n",
       "474       Transformers: Dark of the Moon             2011   \n",
       "32                              Moon Man             2022   \n",
       "54                                Sing 2             2021   \n",
       "\n",
       "                            Genre  Distance  \n",
       "344     Action, Adventure, Sci-Fi  0.927604  \n",
       "5       Action, Adventure, Sci-Fi  0.966285  \n",
       "557     Action, Adventure, Sci-Fi  1.024485  \n",
       "609     Action, Adventure, Sci-Fi  1.058810  \n",
       "691       Action, Mystery, Sci-Fi  1.134221  \n",
       "205     Action, Adventure, Sci-Fi  1.137672  \n",
       "470         Action, Drama, Sci-Fi  1.141398  \n",
       "474     Action, Adventure, Sci-Fi  1.142060  \n",
       "32                 Comedy, Sci-Fi  1.211183  \n",
       "54   Animation, Adventure, Comedy  1.260679  "
      ]
     },
     "execution_count": 26,
     "metadata": {},
     "output_type": "execute_result"
    }
   ],
   "source": [
    "combined_results, _ = recommend_and_search_movies(query, model_knn, vectorizer, tfidf_matrix, top_n=10)\n",
    "combined_results['Distance'] = top_scores\n",
    "combined_results[['Name of movie', 'Year of release','Genre','Distance']]\n"
   ]
  }
 ],
 "metadata": {
  "kernelspec": {
   "display_name": "Python 3",
   "language": "python",
   "name": "python3"
  },
  "language_info": {
   "codemirror_mode": {
    "name": "ipython",
    "version": 3
   },
   "file_extension": ".py",
   "mimetype": "text/x-python",
   "name": "python",
   "nbconvert_exporter": "python",
   "pygments_lexer": "ipython3",
   "version": "3.12.4"
  }
 },
 "nbformat": 4,
 "nbformat_minor": 2
}
